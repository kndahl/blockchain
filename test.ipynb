{
 "cells": [
  {
   "cell_type": "markdown",
   "metadata": {},
   "source": [
    "# FULL MANUAL TEST"
   ]
  },
  {
   "cell_type": "code",
   "execution_count": null,
   "metadata": {},
   "outputs": [],
   "source": [
    "import requests"
   ]
  },
  {
   "cell_type": "markdown",
   "metadata": {},
   "source": [
    "### Поднимаем и регистрируем ноды"
   ]
  },
  {
   "cell_type": "code",
   "execution_count": null,
   "metadata": {},
   "outputs": [],
   "source": [
    "import requests\n",
    "req = requests.get('http://127.0.0.1:8000/worker/register')\n",
    "print(req.status_code)\n",
    "print(req.json())\n",
    "\n",
    "req = requests.get('http://127.0.0.1:8001/worker/register')\n",
    "print(req.status_code)\n",
    "print(req.json())"
   ]
  },
  {
   "cell_type": "markdown",
   "metadata": {},
   "source": [
    "### Поднимаем TransactChain"
   ]
  },
  {
   "cell_type": "markdown",
   "metadata": {},
   "source": [
    "### Поднимаем Mainins Service"
   ]
  },
  {
   "cell_type": "markdown",
   "metadata": {},
   "source": [
    "### Поднимаем wallet service"
   ]
  },
  {
   "cell_type": "code",
   "execution_count": null,
   "metadata": {},
   "outputs": [],
   "source": [
    "# Создаем 2 кощелька\n",
    "\n",
    "# 1\n",
    "req = requests.post('http://127.0.0.1:9090/new_wallet/', json={'number': '89057731311'})\n",
    "print(req.status_code)\n",
    "print(req.json())\n",
    "\n",
    "wallet1 = req.json()\n",
    "\n",
    "# 2\n",
    "req = requests.post('http://127.0.0.1:9090/new_wallet/', json={'number': '89800071313'})\n",
    "print(req.status_code)\n",
    "print(req.json())\n",
    "\n",
    "wallet2 = req.json()"
   ]
  },
  {
   "cell_type": "markdown",
   "metadata": {},
   "source": [
    "### Запускаем mining"
   ]
  },
  {
   "cell_type": "markdown",
   "metadata": {},
   "source": [
    "### Депозит"
   ]
  },
  {
   "cell_type": "code",
   "execution_count": null,
   "metadata": {},
   "outputs": [],
   "source": [
    "req = requests.post('http://127.0.0.1:7070/deposit/', \n",
    "json={\n",
    "    'wallet': wallet1, \n",
    "    'amount': 100})\n",
    "    \n",
    "print(req.status_code)\n",
    "print(req.json())"
   ]
  },
  {
   "cell_type": "markdown",
   "metadata": {},
   "source": [
    "### Добавляем транзакции"
   ]
  },
  {
   "cell_type": "code",
   "execution_count": null,
   "metadata": {},
   "outputs": [],
   "source": [
    "req = requests.post('http://127.0.0.1:7070/new_transaction/', \n",
    "json={\n",
    "    'sender': wallet1, \n",
    "    'recipient': wallet2, \n",
    "    'amount': 100})\n",
    "    \n",
    "print(req.status_code)\n",
    "print(req.json())\n"
   ]
  },
  {
   "cell_type": "markdown",
   "metadata": {},
   "source": [
    "### Non Valid"
   ]
  },
  {
   "cell_type": "code",
   "execution_count": null,
   "metadata": {},
   "outputs": [],
   "source": [
    "req = requests.post('http://127.0.0.1:7070/new_transaction/', \n",
    "json={\n",
    "    'sender': '435', \n",
    "    'recipient': 'jadlen8bd23f84c4083a092e044935bc1a13bd14ae61981c7da9425b2e05ee1b938131', \n",
    "    'amount': 65})\n",
    "    \n",
    "print(req.status_code)\n",
    "print(req.json())\n",
    "\n",
    "req = requests.post('http://127.0.0.1:7070/new_transaction/', \n",
    "json={\n",
    "    'sender': 'jadlen0e8ff6a9b968001c8b4db92f67e80129d19488533d64c94db88e6372c73c991e', \n",
    "    'recipient': '546', \n",
    "    'amount': 65})\n",
    "    \n",
    "print(req.status_code)\n",
    "print(req.json())"
   ]
  },
  {
   "cell_type": "markdown",
   "metadata": {},
   "source": [
    "### Проверяем chain"
   ]
  },
  {
   "cell_type": "code",
   "execution_count": null,
   "metadata": {},
   "outputs": [],
   "source": [
    "req = requests.get('http://127.0.0.1:8000/chain/')\n",
    "print(req.status_code)\n",
    "print(req.json())\n",
    "\n",
    "req = requests.get('http://127.0.0.1:8001/chain/')\n",
    "print(req.status_code)\n",
    "print(req.json())"
   ]
  },
  {
   "cell_type": "markdown",
   "metadata": {},
   "source": [
    "### Добавляем еще транзакции"
   ]
  },
  {
   "cell_type": "code",
   "execution_count": null,
   "metadata": {},
   "outputs": [],
   "source": [
    "req = requests.post('http://127.0.0.1:7070/new_transaction/', \n",
    "json={\n",
    "    'sender': wallet1, \n",
    "    'recipient': wallet2, \n",
    "    'amount': 4})\n",
    "    \n",
    "print(req.status_code)\n",
    "print(req.json())\n",
    "\n",
    "req = requests.post('http://127.0.0.1:7070/new_transaction/', \n",
    "json={\n",
    "    'sender': wallet2, \n",
    "    'recipient': wallet1, \n",
    "    'amount': 87})\n",
    "    \n",
    "print(req.status_code)\n",
    "print(req.json())"
   ]
  },
  {
   "cell_type": "markdown",
   "metadata": {},
   "source": [
    "### Проверяем chain"
   ]
  },
  {
   "cell_type": "code",
   "execution_count": null,
   "metadata": {},
   "outputs": [],
   "source": [
    "req = requests.get('http://127.0.0.1:8000/chain/')\n",
    "print(req.status_code)\n",
    "print(req.json())\n",
    "\n",
    "req = requests.get('http://127.0.0.1:8001/chain/')\n",
    "print(req.status_code)\n",
    "print(req.json())"
   ]
  },
  {
   "cell_type": "code",
   "execution_count": null,
   "metadata": {},
   "outputs": [],
   "source": [
    "req = requests.get(f'http://127.0.0.1:8001/nodes/resolve/')\n",
    "req.status_code\n",
    "req.json()"
   ]
  },
  {
   "cell_type": "code",
   "execution_count": null,
   "metadata": {},
   "outputs": [],
   "source": []
  }
 ],
 "metadata": {
  "kernelspec": {
   "display_name": "Python 3.10.3 64-bit ('3.10.3')",
   "language": "python",
   "name": "python3"
  },
  "language_info": {
   "codemirror_mode": {
    "name": "ipython",
    "version": 3
   },
   "file_extension": ".py",
   "mimetype": "text/x-python",
   "name": "python",
   "nbconvert_exporter": "python",
   "pygments_lexer": "ipython3",
   "version": "3.10.3"
  },
  "orig_nbformat": 4,
  "vscode": {
   "interpreter": {
    "hash": "3c26c9a9f719f5de1012e5e5e8bc8d4fe58c071e5a997018b1c31fde085b43ca"
   }
  }
 },
 "nbformat": 4,
 "nbformat_minor": 2
}
