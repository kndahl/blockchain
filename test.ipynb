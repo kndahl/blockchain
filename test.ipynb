{
 "cells": [
  {
   "cell_type": "markdown",
   "metadata": {},
   "source": [
    "# FULL MANUAL TEST"
   ]
  },
  {
   "cell_type": "code",
   "execution_count": 1,
   "metadata": {},
   "outputs": [],
   "source": [
    "import requests"
   ]
  },
  {
   "cell_type": "markdown",
   "metadata": {},
   "source": [
    "### Поднимаем и регистрируем ноды"
   ]
  },
  {
   "cell_type": "code",
   "execution_count": 2,
   "metadata": {},
   "outputs": [
    {
     "name": "stdout",
     "output_type": "stream",
     "text": [
      "200\n",
      "{'message': 'Node was successfully registered.'}\n"
     ]
    }
   ],
   "source": [
    "import requests\n",
    "req = requests.get('http://127.0.0.1:8000/blockchain/worker/register')\n",
    "print(req.status_code)\n",
    "print(req.json())"
   ]
  },
  {
   "cell_type": "code",
   "execution_count": 3,
   "metadata": {},
   "outputs": [
    {
     "name": "stdout",
     "output_type": "stream",
     "text": [
      "200\n",
      "{'message': 'Node was successfully registered.'}\n"
     ]
    }
   ],
   "source": [
    "import requests\n",
    "req = requests.get('http://127.0.0.1:8001/blockchain/worker/register')\n",
    "print(req.status_code)\n",
    "print(req.json())"
   ]
  },
  {
   "cell_type": "code",
   "execution_count": 4,
   "metadata": {},
   "outputs": [
    {
     "name": "stdout",
     "output_type": "stream",
     "text": [
      "200\n",
      "['127.0.0.1:8000', '127.0.0.1:8001']\n"
     ]
    }
   ],
   "source": [
    "req = requests.get('http://127.0.0.1:3000/worker/get_nodes')\n",
    "print(req.status_code)\n",
    "print(req.json())"
   ]
  },
  {
   "cell_type": "markdown",
   "metadata": {},
   "source": [
    "### Поднимаем TransactChain"
   ]
  },
  {
   "cell_type": "markdown",
   "metadata": {},
   "source": [
    "### Поднимаем Mainins Service"
   ]
  },
  {
   "cell_type": "markdown",
   "metadata": {},
   "source": [
    "### Поднимаем wallet service"
   ]
  },
  {
   "cell_type": "code",
   "execution_count": 5,
   "metadata": {},
   "outputs": [
    {
     "name": "stdout",
     "output_type": "stream",
     "text": [
      "200\n",
      "jadlen3affff5282edcefe4cefc6c351e315b0920c6aec7b9ccc3cdb632dcbe397d478\n",
      "200\n",
      "jadlen4bcb834452f7ab5bebf82713e1a0fb41c0f97383bfe86694d0b244ca0f21cf93\n"
     ]
    }
   ],
   "source": [
    "# Создаем 2 кощелька\n",
    "\n",
    "# 1\n",
    "req = requests.post('http://127.0.0.1:9090/wallet/new_wallet/', json={'number': '89057731311'})\n",
    "print(req.status_code)\n",
    "print(req.json())\n",
    "\n",
    "wallet1 = req.json()\n",
    "\n",
    "# 2\n",
    "req = requests.post('http://127.0.0.1:9090/wallet/new_wallet/', json={'number': '89800071313'})\n",
    "print(req.status_code)\n",
    "print(req.json())\n",
    "\n",
    "wallet2 = req.json()"
   ]
  },
  {
   "cell_type": "markdown",
   "metadata": {},
   "source": [
    "### Запускаем mining"
   ]
  },
  {
   "cell_type": "markdown",
   "metadata": {},
   "source": [
    "### Депозит"
   ]
  },
  {
   "cell_type": "code",
   "execution_count": 6,
   "metadata": {},
   "outputs": [
    {
     "name": "stdout",
     "output_type": "stream",
     "text": [
      "200\n",
      "{'message': 'Transaction has been send to blockchain.'}\n"
     ]
    }
   ],
   "source": [
    "req = requests.post('http://127.0.0.1:7070/transaction/deposit/', \n",
    "json={\n",
    "    'wallet': wallet1, \n",
    "    'amount': 100})\n",
    "    \n",
    "print(req.status_code)\n",
    "print(req.json())"
   ]
  },
  {
   "cell_type": "markdown",
   "metadata": {},
   "source": [
    "### Добавляем транзакции"
   ]
  },
  {
   "cell_type": "code",
   "execution_count": 7,
   "metadata": {},
   "outputs": [
    {
     "name": "stdout",
     "output_type": "stream",
     "text": [
      "200\n",
      "{'message': 'Transaction has been send to blockchain.'}\n"
     ]
    }
   ],
   "source": [
    "req = requests.post('http://127.0.0.1:7070/transaction/new_transaction/', \n",
    "json={\n",
    "    'sender': wallet1, \n",
    "    'recipient': wallet2, \n",
    "    'amount': 100})\n",
    "    \n",
    "print(req.status_code)\n",
    "print(req.json())\n"
   ]
  },
  {
   "cell_type": "markdown",
   "metadata": {},
   "source": [
    "### Non Valid"
   ]
  },
  {
   "cell_type": "code",
   "execution_count": 8,
   "metadata": {},
   "outputs": [
    {
     "name": "stdout",
     "output_type": "stream",
     "text": [
      "400\n",
      "{'message': 'An error occurred during sending transactions.'}\n",
      "400\n",
      "{'message': 'An error occurred during sending transactions.'}\n"
     ]
    }
   ],
   "source": [
    "req = requests.post('http://127.0.0.1:7070/transaction/new_transaction/', \n",
    "json={\n",
    "    'sender': '435', \n",
    "    'recipient': 'jadlen8bd23f84c4083a092e044935bc1a13bd14ae61981c7da9425b2e05ee1b938131', \n",
    "    'amount': 65})\n",
    "    \n",
    "print(req.status_code)\n",
    "print(req.json())\n",
    "\n",
    "req = requests.post('http://127.0.0.1:7070/transaction/new_transaction/', \n",
    "json={\n",
    "    'sender': 'jadlen0e8ff6a9b968001c8b4db92f67e80129d19488533d64c94db88e6372c73c991e', \n",
    "    'recipient': '546', \n",
    "    'amount': 65})\n",
    "    \n",
    "print(req.status_code)\n",
    "print(req.json())"
   ]
  },
  {
   "cell_type": "markdown",
   "metadata": {},
   "source": [
    "### Проверяем chain"
   ]
  },
  {
   "cell_type": "code",
   "execution_count": 9,
   "metadata": {},
   "outputs": [
    {
     "name": "stdout",
     "output_type": "stream",
     "text": [
      "200\n",
      "{'chain': [{'index': 1, 'previous_hash': 0, 'proof': 1, 'timestamp': '2022-10-11 11:35:14.545924', 'transactions': 'Genesis Block'}, {'index': 2, 'previous_hash': '57fe61138e52b254c6298c5437655b9d036b25439269d1b591913a98dff2b8e6', 'proof': 337034, 'timestamp': '2022-10-11 11:35:41.227476', 'transactions': [{'amount': 100, 'recipient': 'jadlen3affff5282edcefe4cefc6c351e315b0920c6aec7b9ccc3cdb632dcbe397d478', 'sender': '0'}]}, {'index': 3, 'previous_hash': '891faff9584de72058dfcff1bd423c5fc506cdbb95168de836e6fe5594f017e1', 'proof': 46492, 'timestamp': '2022-10-11 11:36:01.467795', 'transactions': [{'amount': 100, 'recipient': 'jadlen4bcb834452f7ab5bebf82713e1a0fb41c0f97383bfe86694d0b244ca0f21cf93', 'sender': 'jadlen3affff5282edcefe4cefc6c351e315b0920c6aec7b9ccc3cdb632dcbe397d478'}]}], 'length': 3}\n",
      "200\n",
      "{'chain': [{'index': 1, 'previous_hash': 0, 'proof': 1, 'timestamp': '2022-10-11 11:35:14.545924', 'transactions': 'Genesis Block'}, {'index': 2, 'previous_hash': '57fe61138e52b254c6298c5437655b9d036b25439269d1b591913a98dff2b8e6', 'proof': 337034, 'timestamp': '2022-10-11 11:35:41.227476', 'transactions': [{'amount': 100, 'recipient': 'jadlen3affff5282edcefe4cefc6c351e315b0920c6aec7b9ccc3cdb632dcbe397d478', 'sender': '0'}]}, {'index': 3, 'previous_hash': '891faff9584de72058dfcff1bd423c5fc506cdbb95168de836e6fe5594f017e1', 'proof': 46492, 'timestamp': '2022-10-11 11:36:01.467795', 'transactions': [{'amount': 100, 'recipient': 'jadlen4bcb834452f7ab5bebf82713e1a0fb41c0f97383bfe86694d0b244ca0f21cf93', 'sender': 'jadlen3affff5282edcefe4cefc6c351e315b0920c6aec7b9ccc3cdb632dcbe397d478'}]}], 'length': 3}\n"
     ]
    }
   ],
   "source": [
    "req = requests.get('http://127.0.0.1:8000/blockchain/chain/')\n",
    "print(req.status_code)\n",
    "print(req.json())\n",
    "\n",
    "req = requests.get('http://127.0.0.1:8001/blockchain/chain/')\n",
    "print(req.status_code)\n",
    "print(req.json())"
   ]
  },
  {
   "cell_type": "markdown",
   "metadata": {},
   "source": [
    "### Добавляем еще транзакции"
   ]
  },
  {
   "cell_type": "code",
   "execution_count": 10,
   "metadata": {},
   "outputs": [
    {
     "name": "stdout",
     "output_type": "stream",
     "text": [
      "400\n",
      "{'message': 'An error occurred during sending transactions.'}\n",
      "200\n",
      "{'message': 'Transaction has been send to blockchain.'}\n"
     ]
    }
   ],
   "source": [
    "req = requests.post('http://127.0.0.1:7070/transaction/new_transaction/', \n",
    "json={\n",
    "    'sender': wallet1, \n",
    "    'recipient': wallet2, \n",
    "    'amount': 4})\n",
    "    \n",
    "print(req.status_code)\n",
    "print(req.json())\n",
    "\n",
    "req = requests.post('http://127.0.0.1:7070/transaction/new_transaction/', \n",
    "json={\n",
    "    'sender': wallet2, \n",
    "    'recipient': wallet1, \n",
    "    'amount': 87})\n",
    "    \n",
    "print(req.status_code)\n",
    "print(req.json())"
   ]
  },
  {
   "cell_type": "markdown",
   "metadata": {},
   "source": [
    "### Проверяем chain"
   ]
  },
  {
   "cell_type": "code",
   "execution_count": 11,
   "metadata": {},
   "outputs": [
    {
     "name": "stdout",
     "output_type": "stream",
     "text": [
      "200\n",
      "{'chain': [{'index': 1, 'previous_hash': 0, 'proof': 1, 'timestamp': '2022-10-11 11:35:14.545924', 'transactions': 'Genesis Block'}, {'index': 2, 'previous_hash': '57fe61138e52b254c6298c5437655b9d036b25439269d1b591913a98dff2b8e6', 'proof': 337034, 'timestamp': '2022-10-11 11:35:41.227476', 'transactions': [{'amount': 100, 'recipient': 'jadlen3affff5282edcefe4cefc6c351e315b0920c6aec7b9ccc3cdb632dcbe397d478', 'sender': '0'}]}, {'index': 3, 'previous_hash': '891faff9584de72058dfcff1bd423c5fc506cdbb95168de836e6fe5594f017e1', 'proof': 46492, 'timestamp': '2022-10-11 11:36:01.467795', 'transactions': [{'amount': 100, 'recipient': 'jadlen4bcb834452f7ab5bebf82713e1a0fb41c0f97383bfe86694d0b244ca0f21cf93', 'sender': 'jadlen3affff5282edcefe4cefc6c351e315b0920c6aec7b9ccc3cdb632dcbe397d478'}]}, {'index': 4, 'previous_hash': 'e97c75e204a8b3f8e73715ccc1522185b7b3b25eae51e4752b5398d1512cdacc', 'proof': 26641, 'timestamp': '2022-10-11 11:36:21.653615', 'transactions': [{'amount': 87, 'recipient': 'jadlen3affff5282edcefe4cefc6c351e315b0920c6aec7b9ccc3cdb632dcbe397d478', 'sender': 'jadlen4bcb834452f7ab5bebf82713e1a0fb41c0f97383bfe86694d0b244ca0f21cf93'}]}], 'length': 4}\n",
      "200\n",
      "{'chain': [{'index': 1, 'previous_hash': 0, 'proof': 1, 'timestamp': '2022-10-11 11:35:14.545924', 'transactions': 'Genesis Block'}, {'index': 2, 'previous_hash': '57fe61138e52b254c6298c5437655b9d036b25439269d1b591913a98dff2b8e6', 'proof': 337034, 'timestamp': '2022-10-11 11:35:41.227476', 'transactions': [{'amount': 100, 'recipient': 'jadlen3affff5282edcefe4cefc6c351e315b0920c6aec7b9ccc3cdb632dcbe397d478', 'sender': '0'}]}, {'index': 3, 'previous_hash': '891faff9584de72058dfcff1bd423c5fc506cdbb95168de836e6fe5594f017e1', 'proof': 46492, 'timestamp': '2022-10-11 11:36:01.467795', 'transactions': [{'amount': 100, 'recipient': 'jadlen4bcb834452f7ab5bebf82713e1a0fb41c0f97383bfe86694d0b244ca0f21cf93', 'sender': 'jadlen3affff5282edcefe4cefc6c351e315b0920c6aec7b9ccc3cdb632dcbe397d478'}]}, {'index': 4, 'previous_hash': 'e97c75e204a8b3f8e73715ccc1522185b7b3b25eae51e4752b5398d1512cdacc', 'proof': 26641, 'timestamp': '2022-10-11 11:36:21.653615', 'transactions': [{'amount': 87, 'recipient': 'jadlen3affff5282edcefe4cefc6c351e315b0920c6aec7b9ccc3cdb632dcbe397d478', 'sender': 'jadlen4bcb834452f7ab5bebf82713e1a0fb41c0f97383bfe86694d0b244ca0f21cf93'}]}], 'length': 4}\n"
     ]
    }
   ],
   "source": [
    "req = requests.get('http://127.0.0.1:8000/blockchain/chain/')\n",
    "print(req.status_code)\n",
    "print(req.json())\n",
    "\n",
    "req = requests.get('http://127.0.0.1:8001/blockchain/chain/')\n",
    "print(req.status_code)\n",
    "print(req.json())"
   ]
  },
  {
   "cell_type": "code",
   "execution_count": null,
   "metadata": {},
   "outputs": [],
   "source": []
  }
 ],
 "metadata": {
  "kernelspec": {
   "display_name": "Python 3.10.3 64-bit ('3.10.3')",
   "language": "python",
   "name": "python3"
  },
  "language_info": {
   "codemirror_mode": {
    "name": "ipython",
    "version": 3
   },
   "file_extension": ".py",
   "mimetype": "text/x-python",
   "name": "python",
   "nbconvert_exporter": "python",
   "pygments_lexer": "ipython3",
   "version": "3.10.3"
  },
  "orig_nbformat": 4,
  "vscode": {
   "interpreter": {
    "hash": "3c26c9a9f719f5de1012e5e5e8bc8d4fe58c071e5a997018b1c31fde085b43ca"
   }
  }
 },
 "nbformat": 4,
 "nbformat_minor": 2
}
