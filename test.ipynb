{
 "cells": [
  {
   "cell_type": "markdown",
   "metadata": {},
   "source": [
    "# FULL MANUAL TEST"
   ]
  },
  {
   "cell_type": "code",
   "execution_count": 1,
   "metadata": {},
   "outputs": [
    {
     "name": "stdout",
     "output_type": "stream",
     "text": [
      "200\n",
      "['blockchain_node1:8000', 'blockchain_node3:8002', 'blockchain_node2:8001']\n"
     ]
    }
   ],
   "source": [
    "import requests\n",
    "req = requests.get('http://127.0.0.1:3000/worker/get_nodes')\n",
    "print(req.status_code)\n",
    "print(req.json())"
   ]
  },
  {
   "cell_type": "markdown",
   "metadata": {},
   "source": [
    "### Поднимаем TransactChain"
   ]
  },
  {
   "cell_type": "markdown",
   "metadata": {},
   "source": [
    "### Поднимаем Mainins Service"
   ]
  },
  {
   "cell_type": "markdown",
   "metadata": {},
   "source": [
    "### Поднимаем wallet service"
   ]
  },
  {
   "cell_type": "code",
   "execution_count": 2,
   "metadata": {},
   "outputs": [
    {
     "name": "stdout",
     "output_type": "stream",
     "text": [
      "200\n",
      "{'addr': 'jadlen83d58c18d1b0a4fee574130c310ea6d859cecc865f940a60de1660cc865648ba', 'message': 'Wallet successfully created.'}\n",
      "200\n",
      "{'addr': 'jadlenaa7d65165d1959470204127f33d6360fbf03550d5eed6b02296b8c03b0bef3aa', 'message': 'Wallet successfully created.'}\n"
     ]
    }
   ],
   "source": [
    "# Создаем 2 кощелька\n",
    "import requests\n",
    "# 1\n",
    "req = requests.post('http://127.0.0.1:9090/wallet/new_wallet/', json={'number': '89057731311', 'password': '12345'})\n",
    "print(req.status_code)\n",
    "print(req.json())\n",
    "\n",
    "wallet1 = req.json().get('addr')\n",
    "\n",
    "# 2\n",
    "req = requests.post('http://127.0.0.1:9090/wallet/new_wallet/', json={'number': '89800071313', 'password': 'qwerty'})\n",
    "print(req.status_code)\n",
    "print(req.json())\n",
    "\n",
    "wallet2 = req.json().get('addr')"
   ]
  },
  {
   "cell_type": "markdown",
   "metadata": {},
   "source": [
    "### Запускаем mining"
   ]
  },
  {
   "cell_type": "markdown",
   "metadata": {},
   "source": [
    "### Депозит"
   ]
  },
  {
   "cell_type": "code",
   "execution_count": 3,
   "metadata": {},
   "outputs": [
    {
     "name": "stdout",
     "output_type": "stream",
     "text": [
      "200\n",
      "{'message': 'Transaction has been send to blockchain.'}\n"
     ]
    }
   ],
   "source": [
    "req = requests.post('http://127.0.0.1:7070/transaction/deposit/', \n",
    "json={\n",
    "    'wallet': wallet1, \n",
    "    'amount': 100})\n",
    "    \n",
    "print(req.status_code)\n",
    "print(req.json())"
   ]
  },
  {
   "cell_type": "markdown",
   "metadata": {},
   "source": [
    "### Проверяем баланс"
   ]
  },
  {
   "cell_type": "code",
   "execution_count": 10,
   "metadata": {},
   "outputs": [
    {
     "name": "stdout",
     "output_type": "stream",
     "text": [
      "200\n",
      "{'balance': 0, 'message': 'Auth ok.'}\n"
     ]
    }
   ],
   "source": [
    "req = requests.post('http://127.0.0.1:9090/wallet/get_balance/', \n",
    "json={\n",
    "    'number': '89057731311', \n",
    "    'password': '12345'})\n",
    "    \n",
    "print(req.status_code)\n",
    "print(req.json())"
   ]
  },
  {
   "cell_type": "markdown",
   "metadata": {},
   "source": [
    "### Добавляем транзакции"
   ]
  },
  {
   "cell_type": "code",
   "execution_count": 6,
   "metadata": {},
   "outputs": [
    {
     "name": "stdout",
     "output_type": "stream",
     "text": [
      "200\n",
      "{'message': 'Transaction has been send to blockchain.'}\n",
      "400\n",
      "{'message': 'Not enough funds.'}\n",
      "400\n",
      "{'message': 'Not enough funds.'}\n",
      "400\n",
      "{'message': 'Not enough funds.'}\n"
     ]
    }
   ],
   "source": [
    "req = requests.post('http://127.0.0.1:7070/transaction/new_transaction/', \n",
    "json={\n",
    "    'sender': wallet1, \n",
    "    'recipient': wallet2, \n",
    "    'amount': 100})\n",
    "    \n",
    "print(req.status_code)\n",
    "print(req.json())\n",
    "\n",
    "# NOT VALID\n",
    "req = requests.post('http://127.0.0.1:7070/transaction/new_transaction/', \n",
    "json={\n",
    "    'sender': wallet1, \n",
    "    'recipient': wallet2, \n",
    "    'amount': 100})\n",
    "    \n",
    "print(req.status_code)\n",
    "print(req.json())\n",
    "\n",
    "# NOT VALID\n",
    "req = requests.post('http://127.0.0.1:7070/transaction/new_transaction/', \n",
    "json={\n",
    "    'sender': wallet1, \n",
    "    'recipient': wallet2, \n",
    "    'amount': 100})\n",
    "    \n",
    "print(req.status_code)\n",
    "print(req.json())\n",
    "\n",
    "# NOT VALID\n",
    "req = requests.post('http://127.0.0.1:7070/transaction/new_transaction/', \n",
    "json={\n",
    "    'sender': wallet1, \n",
    "    'recipient': wallet2, \n",
    "    'amount': 100})\n",
    "    \n",
    "print(req.status_code)\n",
    "print(req.json())"
   ]
  },
  {
   "cell_type": "code",
   "execution_count": 9,
   "metadata": {},
   "outputs": [
    {
     "name": "stdout",
     "output_type": "stream",
     "text": [
      "200\n",
      "{'message': 'Transaction has been send to blockchain.'}\n"
     ]
    }
   ],
   "source": [
    "req = requests.post('http://127.0.0.1:7070/transaction/new_transaction/', \n",
    "json={\n",
    "    'sender': wallet2, \n",
    "    'recipient': wallet1, \n",
    "    'amount': 100})\n",
    "    \n",
    "print(req.status_code)\n",
    "print(req.json())"
   ]
  },
  {
   "cell_type": "code",
   "execution_count": 8,
   "metadata": {},
   "outputs": [
    {
     "name": "stdout",
     "output_type": "stream",
     "text": [
      "400\n",
      "{'message': 'Recipient address validation failed.'}\n",
      "400\n",
      "{'message': 'Sender address validation failed.'}\n",
      "400\n",
      "{'message': 'Sender address validation failed.'}\n"
     ]
    }
   ],
   "source": [
    "# Не валидный адрес\n",
    "req = requests.post('http://127.0.0.1:7070/transaction/new_transaction/', \n",
    "json={\n",
    "    'sender': wallet2, \n",
    "    'recipient': 'fdgkjh', \n",
    "    'amount': 100})\n",
    "    \n",
    "print(req.status_code)\n",
    "print(req.json())\n",
    "\n",
    "# Не валидный адрес\n",
    "req = requests.post('http://127.0.0.1:7070/transaction/new_transaction/', \n",
    "json={\n",
    "    'sender': 'fdgrgrd', \n",
    "    'recipient': wallet2, \n",
    "    'amount': 100})\n",
    "    \n",
    "print(req.status_code)\n",
    "print(req.json())\n",
    "\n",
    "# Не валидный адрес\n",
    "req = requests.post('http://127.0.0.1:7070/transaction/new_transaction/', \n",
    "json={\n",
    "    'sender': 'fdgrgrd', \n",
    "    'recipient': 'rgegdt', \n",
    "    'amount': 100})\n",
    "    \n",
    "print(req.status_code)\n",
    "print(req.json())"
   ]
  },
  {
   "cell_type": "markdown",
   "metadata": {},
   "source": [
    "### Выключаем одну из нод и проверяем работоспособность"
   ]
  },
  {
   "cell_type": "code",
   "execution_count": null,
   "metadata": {},
   "outputs": [],
   "source": [
    "req = requests.post('http://127.0.0.1:7070/transaction/new_transaction/', \n",
    "json={\n",
    "    'sender': wallet2, \n",
    "    'recipient': wallet1, \n",
    "    'amount': 50})\n",
    "    \n",
    "print(req.status_code)\n",
    "print(req.json())"
   ]
  },
  {
   "cell_type": "markdown",
   "metadata": {},
   "source": [
    "### Проверяем chain"
   ]
  },
  {
   "cell_type": "code",
   "execution_count": 11,
   "metadata": {},
   "outputs": [
    {
     "name": "stdout",
     "output_type": "stream",
     "text": [
      "200\n",
      "{'chain': [{'index': 1, 'previous_hash': 0, 'proof': 1, 'timestamp': '2022-11-02 23:22:31.426822', 'transactions': 'Genesis Block'}, {'index': 2, 'previous_hash': '3ea4cadad9b86c5a9dc85a5836642d178ac125d0b06a5b9c4435f96c963c66a5', 'proof': 109600, 'timestamp': '2022-11-02 23:22:52.778498', 'transactions': [{'amount': 100, 'recipient': 'jadlen83d58c18d1b0a4fee574130c310ea6d859cecc865f940a60de1660cc865648ba', 'sender': '0'}]}, {'index': 3, 'previous_hash': 'e04b9c751e987b95314842cb423d0221e241e7ada55a7c7f98cd1ae3b8cc603b', 'proof': 18012, 'timestamp': '2022-11-02 23:23:39.267843', 'transactions': [{'amount': 100, 'recipient': 'jadlenaa7d65165d1959470204127f33d6360fbf03550d5eed6b02296b8c03b0bef3aa', 'sender': 'jadlen83d58c18d1b0a4fee574130c310ea6d859cecc865f940a60de1660cc865648ba'}]}], 'length': 3}\n",
      "200\n",
      "{'chain': [{'index': 1, 'previous_hash': 0, 'proof': 1, 'timestamp': '2022-11-02 23:22:31.426822', 'transactions': 'Genesis Block'}, {'index': 2, 'previous_hash': '3ea4cadad9b86c5a9dc85a5836642d178ac125d0b06a5b9c4435f96c963c66a5', 'proof': 109600, 'timestamp': '2022-11-02 23:22:52.778498', 'transactions': [{'amount': 100, 'recipient': 'jadlen83d58c18d1b0a4fee574130c310ea6d859cecc865f940a60de1660cc865648ba', 'sender': '0'}]}, {'index': 3, 'previous_hash': 'e04b9c751e987b95314842cb423d0221e241e7ada55a7c7f98cd1ae3b8cc603b', 'proof': 18012, 'timestamp': '2022-11-02 23:23:39.267843', 'transactions': [{'amount': 100, 'recipient': 'jadlenaa7d65165d1959470204127f33d6360fbf03550d5eed6b02296b8c03b0bef3aa', 'sender': 'jadlen83d58c18d1b0a4fee574130c310ea6d859cecc865f940a60de1660cc865648ba'}]}], 'length': 3}\n",
      "200\n",
      "{'chain': [{'index': 1, 'previous_hash': 0, 'proof': 1, 'timestamp': '2022-11-02 23:22:31.426822', 'transactions': 'Genesis Block'}, {'index': 2, 'previous_hash': '3ea4cadad9b86c5a9dc85a5836642d178ac125d0b06a5b9c4435f96c963c66a5', 'proof': 109600, 'timestamp': '2022-11-02 23:22:52.778498', 'transactions': [{'amount': 100, 'recipient': 'jadlen83d58c18d1b0a4fee574130c310ea6d859cecc865f940a60de1660cc865648ba', 'sender': '0'}]}, {'index': 3, 'previous_hash': 'e04b9c751e987b95314842cb423d0221e241e7ada55a7c7f98cd1ae3b8cc603b', 'proof': 18012, 'timestamp': '2022-11-02 23:23:39.267843', 'transactions': [{'amount': 100, 'recipient': 'jadlenaa7d65165d1959470204127f33d6360fbf03550d5eed6b02296b8c03b0bef3aa', 'sender': 'jadlen83d58c18d1b0a4fee574130c310ea6d859cecc865f940a60de1660cc865648ba'}]}], 'length': 3}\n"
     ]
    }
   ],
   "source": [
    "req = requests.get('http://127.0.0.1:8000/blockchain/chain/')\n",
    "print(req.status_code)\n",
    "print(req.json())\n",
    "\n",
    "req = requests.get('http://127.0.0.1:8001/blockchain/chain/')\n",
    "print(req.status_code)\n",
    "print(req.json())\n",
    "\n",
    "req = requests.get('http://127.0.0.1:8002/blockchain/chain/')\n",
    "print(req.status_code)\n",
    "print(req.json())"
   ]
  },
  {
   "cell_type": "markdown",
   "metadata": {},
   "source": [
    "# Проверяем телефон"
   ]
  },
  {
   "cell_type": "code",
   "execution_count": 12,
   "metadata": {},
   "outputs": [
    {
     "name": "stdout",
     "output_type": "stream",
     "text": [
      "201\n",
      "{'message': 'Number already exists in DB.'}\n"
     ]
    }
   ],
   "source": [
    "import requests\n",
    "req = requests.post('http://127.0.0.1:9090/wallet/wallet_exist/', json={'number': '89057731311'})\n",
    "print(req.status_code)\n",
    "print(req.json())"
   ]
  },
  {
   "cell_type": "markdown",
   "metadata": {},
   "source": [
    "# Проверяем пару number-password"
   ]
  },
  {
   "cell_type": "code",
   "execution_count": 13,
   "metadata": {},
   "outputs": [
    {
     "name": "stdout",
     "output_type": "stream",
     "text": [
      "200\n",
      "{'message': 'Key-Lock True.'}\n",
      "400\n",
      "{'message': 'Key-Lock False.'}\n"
     ]
    }
   ],
   "source": [
    "import requests\n",
    "req = requests.post('http://127.0.0.1:9090/wallet/password_check/', json={'number': '89057731311', 'password': '12345'})\n",
    "print(req.status_code)\n",
    "print(req.json())\n",
    "\n",
    "req = requests.post('http://127.0.0.1:9090/wallet/password_check/', json={'number': '89057731311', 'password': ''})\n",
    "print(req.status_code)\n",
    "print(req.json())"
   ]
  },
  {
   "cell_type": "code",
   "execution_count": null,
   "metadata": {},
   "outputs": [],
   "source": []
  }
 ],
 "metadata": {
  "kernelspec": {
   "display_name": "Python 3.10.3 64-bit ('3.10.3')",
   "language": "python",
   "name": "python3"
  },
  "language_info": {
   "codemirror_mode": {
    "name": "ipython",
    "version": 3
   },
   "file_extension": ".py",
   "mimetype": "text/x-python",
   "name": "python",
   "nbconvert_exporter": "python",
   "pygments_lexer": "ipython3",
   "version": "3.10.3"
  },
  "orig_nbformat": 4,
  "vscode": {
   "interpreter": {
    "hash": "3c26c9a9f719f5de1012e5e5e8bc8d4fe58c071e5a997018b1c31fde085b43ca"
   }
  }
 },
 "nbformat": 4,
 "nbformat_minor": 2
}
