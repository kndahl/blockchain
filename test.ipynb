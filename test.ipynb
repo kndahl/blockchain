{
 "cells": [
  {
   "cell_type": "code",
   "execution_count": null,
   "metadata": {},
   "outputs": [],
   "source": [
    "import requests"
   ]
  },
  {
   "cell_type": "markdown",
   "metadata": {},
   "source": [
    "# Test blockchain"
   ]
  },
  {
   "cell_type": "markdown",
   "metadata": {},
   "source": [
    "Запускаем 2 ноды на 8000 и 8001 порту"
   ]
  },
  {
   "cell_type": "markdown",
   "metadata": {},
   "source": [
    "## Create and register node 8000"
   ]
  },
  {
   "cell_type": "code",
   "execution_count": null,
   "metadata": {},
   "outputs": [],
   "source": [
    "req = requests.post('http://127.0.0.1:8000/nodes/register', json={'nodes': ['http://192.168.100.19:8000']})\n",
    "print(req.status_code)\n",
    "print(req.json())\n",
    "\n",
    "req = requests.get('http://127.0.0.1:8000/nodes/resolve/')\n",
    "print(req.status_code)\n",
    "print(req.json())"
   ]
  },
  {
   "cell_type": "markdown",
   "metadata": {},
   "source": [
    "## Add transaction to 8000"
   ]
  },
  {
   "cell_type": "code",
   "execution_count": null,
   "metadata": {},
   "outputs": [],
   "source": [
    "req = requests.post('http://127.0.0.1:8000/transactions/new/', json={'sender': '111', 'recipient': '222', 'amount': 1})\n",
    "print(req.status_code)\n",
    "print(req.json())"
   ]
  },
  {
   "cell_type": "markdown",
   "metadata": {},
   "source": [
    "## Mine block at 8000"
   ]
  },
  {
   "cell_type": "code",
   "execution_count": null,
   "metadata": {},
   "outputs": [],
   "source": [
    "req = requests.get('http://127.0.0.1:8000/mine_block/')\n",
    "print(req.status_code)\n",
    "print(req.json())"
   ]
  },
  {
   "cell_type": "markdown",
   "metadata": {},
   "source": [
    "## Chackout chain 8000"
   ]
  },
  {
   "cell_type": "code",
   "execution_count": null,
   "metadata": {},
   "outputs": [],
   "source": [
    "req = requests.get('http://127.0.0.1:8000/chain/')\n",
    "print(req.status_code)\n",
    "print(req.json())"
   ]
  },
  {
   "cell_type": "markdown",
   "metadata": {},
   "source": [
    "## Create and register node 8001"
   ]
  },
  {
   "cell_type": "code",
   "execution_count": null,
   "metadata": {},
   "outputs": [],
   "source": [
    "req = requests.post('http://127.0.0.1:8001/nodes/register', json={'nodes': ['http://192.168.100.19:8000', 'http://192.168.100.19:8001']})\n",
    "print(req.status_code)\n",
    "print(req.json())\n",
    "\n",
    "req = requests.get('http://127.0.0.1:8001/nodes/resolve/')\n",
    "print(req.status_code)\n",
    "print(req.json())\n",
    "\n",
    "# Уведомляем рабочую ноду о новой\n",
    "req = requests.post('http://127.0.0.1:8000/nodes/register', json={'nodes': ['http://192.168.100.19:8000', 'http://192.168.100.19:8001']})\n",
    "print(req.status_code)\n",
    "print(req.json())"
   ]
  },
  {
   "cell_type": "markdown",
   "metadata": {},
   "source": [
    "## Add transactions to 8001"
   ]
  },
  {
   "cell_type": "code",
   "execution_count": null,
   "metadata": {},
   "outputs": [],
   "source": [
    "req = requests.post('http://127.0.0.1:8001/transactions/new/', json={'sender': '333', 'recipient': '444', 'amount': 3})\n",
    "print(req.status_code)\n",
    "print(req.json())"
   ]
  },
  {
   "cell_type": "markdown",
   "metadata": {},
   "source": [
    "## Mine block at 8001"
   ]
  },
  {
   "cell_type": "code",
   "execution_count": null,
   "metadata": {},
   "outputs": [],
   "source": [
    "req = requests.get('http://127.0.0.1:8001/mine_block/')\n",
    "print(req.status_code)\n",
    "print(req.json())"
   ]
  },
  {
   "cell_type": "markdown",
   "metadata": {},
   "source": [
    "## Checkout 8000 chain"
   ]
  },
  {
   "cell_type": "code",
   "execution_count": null,
   "metadata": {},
   "outputs": [],
   "source": [
    "req = requests.get('http://127.0.0.1:8001/chain/')\n",
    "print(req.status_code)\n",
    "print(req.json())"
   ]
  },
  {
   "cell_type": "markdown",
   "metadata": {},
   "source": [
    "## Checkout 8001 chain"
   ]
  },
  {
   "cell_type": "code",
   "execution_count": null,
   "metadata": {},
   "outputs": [],
   "source": [
    "req = requests.get('http://127.0.0.1:8000/chain/')\n",
    "print(req.status_code)\n",
    "print(req.json())"
   ]
  },
  {
   "cell_type": "markdown",
   "metadata": {},
   "source": [
    "## Add transaction to 8000"
   ]
  },
  {
   "cell_type": "code",
   "execution_count": null,
   "metadata": {},
   "outputs": [],
   "source": [
    "req = requests.post('http://127.0.0.1:8000/transactions/new/', json={'sender': '555', 'recipient': '666', 'amount': 5})\n",
    "print(req.status_code)\n",
    "print(req.json())"
   ]
  },
  {
   "cell_type": "markdown",
   "metadata": {},
   "source": [
    "## Mine block at 8000"
   ]
  },
  {
   "cell_type": "code",
   "execution_count": null,
   "metadata": {},
   "outputs": [],
   "source": [
    "req = requests.get('http://127.0.0.1:8000/mine_block/')\n",
    "print(req.status_code)\n",
    "print(req.json())"
   ]
  },
  {
   "cell_type": "markdown",
   "metadata": {},
   "source": [
    "## Checkout 8000 chain"
   ]
  },
  {
   "cell_type": "code",
   "execution_count": null,
   "metadata": {},
   "outputs": [],
   "source": [
    "req = requests.get('http://127.0.0.1:8000/chain/')\n",
    "print(req.status_code)\n",
    "print(req.json())"
   ]
  },
  {
   "cell_type": "markdown",
   "metadata": {},
   "source": [
    "## Checkout 8001 chain"
   ]
  },
  {
   "cell_type": "code",
   "execution_count": null,
   "metadata": {},
   "outputs": [],
   "source": [
    "req = requests.get('http://127.0.0.1:8001/chain/')\n",
    "print(req.status_code)\n",
    "print(req.json())"
   ]
  },
  {
   "cell_type": "markdown",
   "metadata": {},
   "source": [
    "## Validate"
   ]
  },
  {
   "cell_type": "code",
   "execution_count": null,
   "metadata": {},
   "outputs": [],
   "source": [
    "req = requests.get('http://127.0.0.1:8000/validate/')\n",
    "print(req.status_code)\n",
    "print(req.json())\n",
    "\n",
    "req = requests.get('http://127.0.0.1:8001/validate/')\n",
    "print(req.status_code)\n",
    "print(req.json())"
   ]
  },
  {
   "cell_type": "markdown",
   "metadata": {},
   "source": [
    "## Try to create block without transactions"
   ]
  },
  {
   "cell_type": "code",
   "execution_count": null,
   "metadata": {},
   "outputs": [],
   "source": [
    "req = requests.get('http://127.0.0.1:8000/mine_block/')\n",
    "print(req.status_code)\n",
    "print(req.json())"
   ]
  },
  {
   "cell_type": "code",
   "execution_count": null,
   "metadata": {},
   "outputs": [],
   "source": [
    "req = requests.get('http://127.0.0.1:8001/mine_block/')\n",
    "print(req.status_code)\n",
    "print(req.json())"
   ]
  },
  {
   "cell_type": "markdown",
   "metadata": {},
   "source": [
    "## Test transaction and mining node sync"
   ]
  },
  {
   "cell_type": "code",
   "execution_count": null,
   "metadata": {},
   "outputs": [],
   "source": [
    "# 8000 is mining node\n",
    "# 8001 is transaction node\n",
    "\n",
    "req = requests.post('http://127.0.0.1:8001/transactions/new/', json={'sender': '123', 'recipient': '221', 'amount': 5})\n",
    "print(req.status_code)\n",
    "print(req.json())\n",
    "\n",
    "req = requests.post('http://127.0.0.1:8001/transactions/new/', json={'sender': '654', 'recipient': '554', 'amount': 8})\n",
    "print(req.status_code)\n",
    "print(req.json())\n",
    "\n",
    "req = requests.post('http://127.0.0.1:8001/transactions/new/', json={'sender': '879', 'recipient': '536', 'amount': 4})\n",
    "print(req.status_code)\n",
    "print(req.json())\n",
    "\n",
    "req = requests.post('http://127.0.0.1:8001/transactions/new/', json={'sender': '452', 'recipient': '963', 'amount': 9})\n",
    "print(req.status_code)\n",
    "print(req.json())\n",
    "\n",
    "# Mine\n",
    "req = requests.get('http://127.0.0.1:8000/mine_block/')\n",
    "print(req.status_code)\n",
    "print(req.json())"
   ]
  },
  {
   "cell_type": "code",
   "execution_count": null,
   "metadata": {},
   "outputs": [],
   "source": [
    "req = requests.get('http://127.0.0.1:8000/chain/')\n",
    "print(req.status_code)\n",
    "print(req.json())"
   ]
  },
  {
   "cell_type": "code",
   "execution_count": null,
   "metadata": {},
   "outputs": [],
   "source": [
    "req = requests.get('http://127.0.0.1:8001/chain/')\n",
    "print(req.status_code)\n",
    "print(req.json())"
   ]
  },
  {
   "cell_type": "markdown",
   "metadata": {},
   "source": [
    "# Test transactchain"
   ]
  },
  {
   "cell_type": "code",
   "execution_count": null,
   "metadata": {},
   "outputs": [],
   "source": [
    "import requests"
   ]
  },
  {
   "cell_type": "markdown",
   "metadata": {},
   "source": [
    "### Register nodes"
   ]
  },
  {
   "cell_type": "code",
   "execution_count": null,
   "metadata": {},
   "outputs": [],
   "source": [
    "# Регистрируем 8000\n",
    "req = requests.post('http://127.0.0.1:8000/nodes/register', json={'nodes': ['http://192.168.100.19:8000']})\n",
    "print(req.status_code)\n",
    "print(req.json())\n",
    "\n",
    "req = requests.get('http://127.0.0.1:8000/nodes/resolve/')\n",
    "print(req.status_code)\n",
    "print(req.json())\n",
    "\n",
    "# Регистрируем 8001\n",
    "req = requests.post('http://127.0.0.1:8001/nodes/register', json={'nodes': ['http://192.168.100.19:8000', 'http://192.168.100.19:8001']})\n",
    "print(req.status_code)\n",
    "print(req.json())\n",
    "\n",
    "req = requests.get('http://127.0.0.1:8001/nodes/resolve/')\n",
    "print(req.status_code)\n",
    "print(req.json())\n",
    "\n",
    "# Уведомляем рабочую ноду о новой\n",
    "req = requests.post('http://127.0.0.1:8000/nodes/register', json={'nodes': ['http://192.168.100.19:8000', 'http://192.168.100.19:8001']})\n",
    "print(req.status_code)\n",
    "print(req.json())"
   ]
  },
  {
   "cell_type": "markdown",
   "metadata": {},
   "source": [
    "### Create unique id"
   ]
  },
  {
   "cell_type": "code",
   "execution_count": null,
   "metadata": {},
   "outputs": [],
   "source": [
    "req = requests.post('http://127.0.0.1:7070/new_wallet/', json={'number': '89057731311'})\n",
    "print(req.status_code)\n",
    "print(req.json())"
   ]
  },
  {
   "cell_type": "code",
   "execution_count": null,
   "metadata": {},
   "outputs": [],
   "source": [
    "req = requests.post('http://127.0.0.1:7070/new_wallet/', json={'number': '89800071313'})\n",
    "print(req.status_code)\n",
    "print(req.json())"
   ]
  },
  {
   "cell_type": "code",
   "execution_count": null,
   "metadata": {},
   "outputs": [],
   "source": [
    "import pandas as pd\n",
    "df = pd.read_csv('database/wallets.csv')\n",
    "df"
   ]
  },
  {
   "cell_type": "markdown",
   "metadata": {},
   "source": [
    "### Make transactions"
   ]
  },
  {
   "cell_type": "code",
   "execution_count": null,
   "metadata": {},
   "outputs": [],
   "source": [
    "req = requests.post('http://127.0.0.1:7070/new_transaction/', \n",
    "json={\n",
    "    'sender': 'jadlena4ae246c4f9233d72226a72f14383e81cfb4668d35bc962260c3df45109cd560', \n",
    "    'recipient': 'jadlen30e2579880244172b21333c81d2f24e2d9b8abe053ce55261c01ed9c8789fb72', \n",
    "    'amount': 5})\n",
    "    \n",
    "print(req.status_code)\n",
    "print(req.json())"
   ]
  },
  {
   "cell_type": "code",
   "execution_count": null,
   "metadata": {},
   "outputs": [],
   "source": [
    "req = requests.post('http://127.0.0.1:7070/new_transaction/', \n",
    "json={\n",
    "    'sender': 'jadlena4ae246c4f9233d72226a72f14383e81cfb4668d35bc962260c3df45109cd560', \n",
    "    'recipient': 'jadlen30e2579880244172b21333c81d2f24e2d9b8abe053ce55261c01ed9c8789fb72', \n",
    "    'amount': 4})\n",
    "    \n",
    "print(req.status_code)\n",
    "print(req.json())"
   ]
  },
  {
   "cell_type": "code",
   "execution_count": null,
   "metadata": {},
   "outputs": [],
   "source": [
    "req = requests.post('http://127.0.0.1:7070/new_transaction/', \n",
    "json={\n",
    "    'sender': 'jadlena4ae246c4f9233d72226a72f14383e81cfb4668d35bc962260c3df45109cd560', \n",
    "    'recipient': 'jadlen30e2579880244172b21333c81d2f24e2d9b8abe053ce55261c01ed9c8789fb72', \n",
    "    'amount': 7})\n",
    "    \n",
    "print(req.status_code)\n",
    "print(req.json())"
   ]
  },
  {
   "cell_type": "code",
   "execution_count": null,
   "metadata": {},
   "outputs": [],
   "source": [
    "req = requests.post('http://127.0.0.1:7070/new_transaction/', \n",
    "json={\n",
    "    'sender': 'jadlena4ae246c4f9233d72226a72f14383e81cfb4668d35bc962260c3df45109cd560', \n",
    "    'recipient': 'jadlen30e2579880244172b21333c81d2f24e2d9b8abe053ce55261c01ed9c8789fb72', \n",
    "    'amount': 12})\n",
    "    \n",
    "print(req.status_code)\n",
    "print(req.json())"
   ]
  },
  {
   "cell_type": "markdown",
   "metadata": {},
   "source": [
    "### Mine block"
   ]
  },
  {
   "cell_type": "code",
   "execution_count": null,
   "metadata": {},
   "outputs": [],
   "source": [
    "req = requests.get('http://127.0.0.1:8000/mine_block/')\n",
    "print(req.status_code)\n",
    "print(req.json())"
   ]
  },
  {
   "cell_type": "markdown",
   "metadata": {},
   "source": [
    "### Resolve conflicts"
   ]
  },
  {
   "cell_type": "code",
   "execution_count": null,
   "metadata": {},
   "outputs": [],
   "source": [
    "req = requests.get('http://127.0.0.1:8001/nodes/resolve/')\n",
    "print(req.status_code)\n",
    "print(req.json())"
   ]
  },
  {
   "cell_type": "markdown",
   "metadata": {},
   "source": [
    "### Checkout chains"
   ]
  },
  {
   "cell_type": "code",
   "execution_count": null,
   "metadata": {},
   "outputs": [],
   "source": [
    "req = requests.get('http://127.0.0.1:8000/chain/')\n",
    "print(req.status_code)\n",
    "print(req.json())\n",
    "\n",
    "req = requests.get('http://127.0.0.1:8001/chain/')\n",
    "print(req.status_code)\n",
    "print(req.json())"
   ]
  },
  {
   "cell_type": "markdown",
   "metadata": {},
   "source": [
    "### More transactions"
   ]
  },
  {
   "cell_type": "code",
   "execution_count": null,
   "metadata": {},
   "outputs": [],
   "source": [
    "req = requests.post('http://127.0.0.1:7070/new_transaction/', \n",
    "json={\n",
    "    'sender': 'jadlena4ae246c4f9233d72226a72f14383e81cfb4668d35bc962260c3df45109cd560', \n",
    "    'recipient': 'jadlen30e2579880244172b21333c81d2f24e2d9b8abe053ce55261c01ed9c8789fb72', \n",
    "    'amount': 43})\n",
    "    \n",
    "print(req.status_code)\n",
    "print(req.json())"
   ]
  },
  {
   "cell_type": "code",
   "execution_count": null,
   "metadata": {},
   "outputs": [],
   "source": [
    "import requests\n",
    "req = requests.post('http://127.0.0.1:7070/new_transaction/', \n",
    "json={\n",
    "    'sender': 'jadlena4ae246c4f9233d72226a72f14383e81cfb4668d35bc962260c3df45109cd560', \n",
    "    'recipient': 'jadlen30e2579880244172b21333c81d2f24e2d9b8abe053ce55261c01ed9c8789fb72', \n",
    "    'amount': 5})\n",
    "    \n",
    "print(req.status_code)\n",
    "print(req.json())"
   ]
  },
  {
   "cell_type": "code",
   "execution_count": null,
   "metadata": {},
   "outputs": [],
   "source": [
    "req = requests.post('http://127.0.0.1:7070/new_transaction/', \n",
    "json={\n",
    "    'sender': 'jadlena4ae246c4f9233d72226a72f14383e81cfb4668d35bc962260c3df45109cd560', \n",
    "    'recipient': 'jadlen30e2579880244172b21333c81d2f24e2d9b8abe053ce55261c01ed9c8789fb72', \n",
    "    'amount': 99})\n",
    "    \n",
    "print(req.status_code)\n",
    "print(req.json())"
   ]
  },
  {
   "cell_type": "code",
   "execution_count": null,
   "metadata": {},
   "outputs": [],
   "source": [
    "req = requests.post('http://127.0.0.1:7070/new_transaction/', \n",
    "json={\n",
    "    'sender': 'jadlena4ae246c4f9233d72226a72f14383e81cfb4668d35bc962260c3df45109cd560', \n",
    "    'recipient': 'jadlen30e2579880244172b21333c81d2f24e2d9b8abe053ce55261c01ed9c8789fb72', \n",
    "    'amount': 9})\n",
    "    \n",
    "print(req.status_code)\n",
    "print(req.json())"
   ]
  },
  {
   "cell_type": "markdown",
   "metadata": {},
   "source": [
    "### Mine block"
   ]
  },
  {
   "cell_type": "code",
   "execution_count": null,
   "metadata": {},
   "outputs": [],
   "source": [
    "req = requests.get('http://127.0.0.1:8000/mine_block/')\n",
    "print(req.status_code)\n",
    "print(req.json())"
   ]
  },
  {
   "cell_type": "markdown",
   "metadata": {},
   "source": [
    "### Checkout chains"
   ]
  },
  {
   "cell_type": "code",
   "execution_count": null,
   "metadata": {},
   "outputs": [],
   "source": [
    "req = requests.get('http://127.0.0.1:8000/chain/')\n",
    "print(req.status_code)\n",
    "print(req.json())\n",
    "\n",
    "req = requests.get('http://127.0.0.1:8001/chain/')\n",
    "print(req.status_code)\n",
    "print(req.json())"
   ]
  },
  {
   "cell_type": "markdown",
   "metadata": {},
   "source": [
    "### Test mining service"
   ]
  },
  {
   "cell_type": "code",
   "execution_count": null,
   "metadata": {},
   "outputs": [],
   "source": [
    "import requests\n",
    "req = requests.get('http://127.0.0.1:3000/mine/')\n",
    "print(req.status_code)\n",
    "print(req.json())"
   ]
  },
  {
   "cell_type": "markdown",
   "metadata": {},
   "source": [
    "# LAST FULL MANUAL TEST"
   ]
  },
  {
   "cell_type": "code",
   "execution_count": 1,
   "metadata": {},
   "outputs": [],
   "source": [
    "import requests"
   ]
  },
  {
   "cell_type": "markdown",
   "metadata": {},
   "source": [
    "### Поднимаем и регистрируем 8000"
   ]
  },
  {
   "cell_type": "code",
   "execution_count": 2,
   "metadata": {},
   "outputs": [
    {
     "name": "stdout",
     "output_type": "stream",
     "text": [
      "200\n",
      "{'message': 'New nodes have been added.', 'total_nodes': ['192.168.100.19:8000']}\n",
      "200\n",
      "{'chain': [{'index': 1, 'previous_hash': 0, 'proof': 1, 'timestamp': '2022-10-10 16:27:33.726089', 'transactions': 'Genesis Block'}], 'message': 'Our chain is authoritative.'}\n"
     ]
    }
   ],
   "source": [
    "req = requests.post('http://127.0.0.1:8000/nodes/register', json={'nodes': ['http://192.168.100.19:8000']})\n",
    "print(req.status_code)\n",
    "print(req.json())\n",
    "\n",
    "req = requests.get('http://127.0.0.1:8000/nodes/resolve/')\n",
    "print(req.status_code)\n",
    "print(req.json())"
   ]
  },
  {
   "cell_type": "markdown",
   "metadata": {},
   "source": [
    "### Поднимаем и регистрируем 8001"
   ]
  },
  {
   "cell_type": "code",
   "execution_count": 3,
   "metadata": {},
   "outputs": [
    {
     "name": "stdout",
     "output_type": "stream",
     "text": [
      "200\n",
      "{'message': 'New nodes have been added.', 'total_nodes': ['192.168.100.19:8001', '192.168.100.19:8000']}\n",
      "200\n",
      "{'chain': [{'index': 1, 'previous_hash': 0, 'proof': 1, 'timestamp': '2022-10-10 16:27:34.963568', 'transactions': 'Genesis Block'}], 'message': 'Our chain is authoritative.'}\n"
     ]
    }
   ],
   "source": [
    "req = requests.post('http://127.0.0.1:8001/nodes/register', json={'nodes': ['http://192.168.100.19:8000', 'http://192.168.100.19:8001']})\n",
    "print(req.status_code)\n",
    "print(req.json())\n",
    "\n",
    "req = requests.get('http://127.0.0.1:8001/nodes/resolve/')\n",
    "print(req.status_code)\n",
    "print(req.json())"
   ]
  },
  {
   "cell_type": "markdown",
   "metadata": {},
   "source": [
    "### Уведомляем рабочие ноды о новой"
   ]
  },
  {
   "cell_type": "code",
   "execution_count": 4,
   "metadata": {},
   "outputs": [
    {
     "name": "stdout",
     "output_type": "stream",
     "text": [
      "200\n",
      "{'message': 'New nodes have been added.', 'total_nodes': ['192.168.100.19:8000', '192.168.100.19:8001']}\n"
     ]
    }
   ],
   "source": [
    "req = requests.post('http://127.0.0.1:8000/nodes/register', json={'nodes': ['http://192.168.100.19:8000', 'http://192.168.100.19:8001']})\n",
    "print(req.status_code)\n",
    "print(req.json())"
   ]
  },
  {
   "cell_type": "markdown",
   "metadata": {},
   "source": [
    "### Поднимаем TransactChain"
   ]
  },
  {
   "cell_type": "markdown",
   "metadata": {},
   "source": [
    "### Поднимаем Mainins Service"
   ]
  },
  {
   "cell_type": "markdown",
   "metadata": {},
   "source": [
    "### Поднимаем wallet service"
   ]
  },
  {
   "cell_type": "code",
   "execution_count": 5,
   "metadata": {},
   "outputs": [
    {
     "name": "stdout",
     "output_type": "stream",
     "text": [
      "200\n",
      "jadlen611dd8bf0c5be7bad1c298391c8bf00eab2ff7fc93dbb66cf4fb87d4cbf9f69c\n",
      "200\n",
      "jadlen8d9294d1935faa50989f0b255187b57eaf6abb756b307a7c8490a1232d8bcea8\n"
     ]
    }
   ],
   "source": [
    "# Создаем 2 кощелька\n",
    "\n",
    "# 1\n",
    "req = requests.post('http://127.0.0.1:9090/new_wallet/', json={'number': '89057731311'})\n",
    "print(req.status_code)\n",
    "print(req.json())\n",
    "\n",
    "wallet1 = req.json()\n",
    "\n",
    "# 2\n",
    "req = requests.post('http://127.0.0.1:9090/new_wallet/', json={'number': '89800071313'})\n",
    "print(req.status_code)\n",
    "print(req.json())\n",
    "\n",
    "wallet2 = req.json()"
   ]
  },
  {
   "cell_type": "markdown",
   "metadata": {},
   "source": [
    "### Запускаем mining"
   ]
  },
  {
   "cell_type": "markdown",
   "metadata": {},
   "source": [
    "### Депозит"
   ]
  },
  {
   "cell_type": "code",
   "execution_count": 6,
   "metadata": {},
   "outputs": [
    {
     "name": "stdout",
     "output_type": "stream",
     "text": [
      "200\n",
      "{'message': 'Transaction has been send to blockchain.'}\n"
     ]
    }
   ],
   "source": [
    "req = requests.post('http://127.0.0.1:7070/deposit/', \n",
    "json={\n",
    "    'wallet': wallet1, \n",
    "    'amount': 100})\n",
    "    \n",
    "print(req.status_code)\n",
    "print(req.json())"
   ]
  },
  {
   "cell_type": "markdown",
   "metadata": {},
   "source": [
    "### Добавляем транзакции"
   ]
  },
  {
   "cell_type": "code",
   "execution_count": 9,
   "metadata": {},
   "outputs": [
    {
     "name": "stdout",
     "output_type": "stream",
     "text": [
      "200\n",
      "{'message': 'Transaction has been send to blockchain.'}\n"
     ]
    }
   ],
   "source": [
    "req = requests.post('http://127.0.0.1:7070/new_transaction/', \n",
    "json={\n",
    "    'sender': wallet1, \n",
    "    'recipient': wallet2, \n",
    "    'amount': 50})\n",
    "    \n",
    "print(req.status_code)\n",
    "print(req.json())\n"
   ]
  },
  {
   "cell_type": "markdown",
   "metadata": {},
   "source": [
    "### Non Valid"
   ]
  },
  {
   "cell_type": "code",
   "execution_count": null,
   "metadata": {},
   "outputs": [],
   "source": [
    "req = requests.post('http://127.0.0.1:7070/new_transaction/', \n",
    "json={\n",
    "    'sender': '435', \n",
    "    'recipient': 'jadlen8bd23f84c4083a092e044935bc1a13bd14ae61981c7da9425b2e05ee1b938131', \n",
    "    'amount': 65})\n",
    "    \n",
    "print(req.status_code)\n",
    "print(req.json())\n",
    "\n",
    "req = requests.post('http://127.0.0.1:7070/new_transaction/', \n",
    "json={\n",
    "    'sender': 'jadlen0e8ff6a9b968001c8b4db92f67e80129d19488533d64c94db88e6372c73c991e', \n",
    "    'recipient': '546', \n",
    "    'amount': 65})\n",
    "    \n",
    "print(req.status_code)\n",
    "print(req.json())"
   ]
  },
  {
   "cell_type": "markdown",
   "metadata": {},
   "source": [
    "### Проверяем chain"
   ]
  },
  {
   "cell_type": "code",
   "execution_count": null,
   "metadata": {},
   "outputs": [],
   "source": [
    "req = requests.get('http://127.0.0.1:8000/chain/')\n",
    "print(req.status_code)\n",
    "print(req.json())\n",
    "\n",
    "req = requests.get('http://127.0.0.1:8001/chain/')\n",
    "print(req.status_code)\n",
    "print(req.json())"
   ]
  },
  {
   "cell_type": "markdown",
   "metadata": {},
   "source": [
    "### Добавляем еще транзакции"
   ]
  },
  {
   "cell_type": "code",
   "execution_count": null,
   "metadata": {},
   "outputs": [],
   "source": [
    "req = requests.post('http://127.0.0.1:7070/new_transaction/', \n",
    "json={\n",
    "    'sender': 'jadlena4ae246c4f9233d72226a72f14383e81cfb4668d35bc962260c3df45109cd560', \n",
    "    'recipient': 'jadlen30e2579880244172b21333c81d2f24e2d9b8abe053ce55261c01ed9c8789fb72', \n",
    "    'amount': 4})\n",
    "    \n",
    "print(req.status_code)\n",
    "print(req.json())\n",
    "\n",
    "req = requests.post('http://127.0.0.1:7070/new_transaction/', \n",
    "json={\n",
    "    'sender': 'jadlena4ae246c4f9233d72226a72f14383e81cfb4668d35bc962260c3df45109cd560', \n",
    "    'recipient': 'jadlen30e2579880244172b21333c81d2f24e2d9b8abe053ce55261c01ed9c8789fb72', \n",
    "    'amount': 87})\n",
    "    \n",
    "print(req.status_code)\n",
    "print(req.json())\n",
    "\n",
    "req = requests.post('http://127.0.0.1:7070/new_transaction/', \n",
    "json={\n",
    "    'sender': 'jadlen30e2579880244172b21333c81d2f24e2d9b8abe053ce55261c01ed9c8789fb72', \n",
    "    'recipient': 'jadlena4ae246c4f9233d72226a72f14383e81cfb4668d35bc962260c3df45109cd560', \n",
    "    'amount': 1})\n",
    "    \n",
    "print(req.status_code)\n",
    "print(req.json())\n",
    "\n",
    "req = requests.post('http://127.0.0.1:7070/new_transaction/', \n",
    "json={\n",
    "    'sender': 'jadlen30e2579880244172b21333c81d2f24e2d9b8abe053ce55261c01ed9c8789fb72', \n",
    "    'recipient': 'jadlena4ae246c4f9233d72226a72f14383e81cfb4668d35bc962260c3df45109cd560', \n",
    "    'amount': 63})\n",
    "    \n",
    "print(req.status_code)\n",
    "print(req.json())"
   ]
  },
  {
   "cell_type": "markdown",
   "metadata": {},
   "source": [
    "### Проверяем chain"
   ]
  },
  {
   "cell_type": "code",
   "execution_count": null,
   "metadata": {},
   "outputs": [],
   "source": [
    "req = requests.get('http://127.0.0.1:8000/chain/')\n",
    "print(req.status_code)\n",
    "print(req.json())\n",
    "\n",
    "req = requests.get('http://127.0.0.1:8001/chain/')\n",
    "print(req.status_code)\n",
    "print(req.json())"
   ]
  },
  {
   "cell_type": "code",
   "execution_count": null,
   "metadata": {},
   "outputs": [],
   "source": [
    "import pandas as pd\n",
    "\n",
    "df = pd.read_csv('database/wallets.csv')\n",
    "df"
   ]
  },
  {
   "cell_type": "code",
   "execution_count": null,
   "metadata": {},
   "outputs": [],
   "source": [
    "'89057731311' in df['number'].to_list()"
   ]
  },
  {
   "cell_type": "code",
   "execution_count": null,
   "metadata": {},
   "outputs": [],
   "source": [
    "df"
   ]
  },
  {
   "cell_type": "code",
   "execution_count": null,
   "metadata": {},
   "outputs": [],
   "source": [
    "df['number']"
   ]
  },
  {
   "cell_type": "code",
   "execution_count": null,
   "metadata": {},
   "outputs": [],
   "source": [
    "df['wallet']"
   ]
  },
  {
   "cell_type": "code",
   "execution_count": null,
   "metadata": {},
   "outputs": [],
   "source": []
  }
 ],
 "metadata": {
  "kernelspec": {
   "display_name": "Python 3.10.3 64-bit ('3.10.3')",
   "language": "python",
   "name": "python3"
  },
  "language_info": {
   "codemirror_mode": {
    "name": "ipython",
    "version": 3
   },
   "file_extension": ".py",
   "mimetype": "text/x-python",
   "name": "python",
   "nbconvert_exporter": "python",
   "pygments_lexer": "ipython3",
   "version": "3.10.3"
  },
  "orig_nbformat": 4,
  "vscode": {
   "interpreter": {
    "hash": "3c26c9a9f719f5de1012e5e5e8bc8d4fe58c071e5a997018b1c31fde085b43ca"
   }
  }
 },
 "nbformat": 4,
 "nbformat_minor": 2
}
