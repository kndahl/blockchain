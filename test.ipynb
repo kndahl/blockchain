{
 "cells": [
  {
   "cell_type": "markdown",
   "metadata": {},
   "source": [
    "# FULL MANUAL TEST"
   ]
  },
  {
   "cell_type": "markdown",
   "metadata": {},
   "source": [
    "### Поднимаем и регистрируем ноды"
   ]
  },
  {
   "cell_type": "code",
   "execution_count": null,
   "metadata": {},
   "outputs": [],
   "source": [
    "# import requests\n",
    "# req = requests.get('http://127.0.0.1:8000/blockchain/worker/register')\n",
    "# print(req.status_code)\n",
    "# print(req.json())"
   ]
  },
  {
   "cell_type": "code",
   "execution_count": null,
   "metadata": {},
   "outputs": [],
   "source": [
    "# import requests\n",
    "# req = requests.get('http://127.0.0.1:8001/blockchain/worker/register')\n",
    "# print(req.status_code)\n",
    "# print(req.json())"
   ]
  },
  {
   "cell_type": "code",
   "execution_count": null,
   "metadata": {},
   "outputs": [],
   "source": [
    "import requests\n",
    "req = requests.get('http://127.0.0.1:3000/worker/get_nodes')\n",
    "print(req.status_code)\n",
    "print(req.json())"
   ]
  },
  {
   "cell_type": "markdown",
   "metadata": {},
   "source": [
    "### Поднимаем TransactChain"
   ]
  },
  {
   "cell_type": "markdown",
   "metadata": {},
   "source": [
    "### Поднимаем Mainins Service"
   ]
  },
  {
   "cell_type": "markdown",
   "metadata": {},
   "source": [
    "### Поднимаем wallet service"
   ]
  },
  {
   "cell_type": "code",
   "execution_count": null,
   "metadata": {},
   "outputs": [],
   "source": [
    "# Создаем 2 кощелька\n",
    "import requests\n",
    "# 1\n",
    "req = requests.post('http://127.0.0.1:9090/wallet/new_wallet/', json={'number': '89057731311'})\n",
    "print(req.status_code)\n",
    "print(req.json())\n",
    "\n",
    "wallet1 = req.json()\n",
    "\n",
    "# 2\n",
    "req = requests.post('http://127.0.0.1:9090/wallet/new_wallet/', json={'number': '89800071313'})\n",
    "print(req.status_code)\n",
    "print(req.json())\n",
    "\n",
    "wallet2 = req.json()"
   ]
  },
  {
   "cell_type": "markdown",
   "metadata": {},
   "source": [
    "### Запускаем mining"
   ]
  },
  {
   "cell_type": "markdown",
   "metadata": {},
   "source": [
    "### Депозит"
   ]
  },
  {
   "cell_type": "code",
   "execution_count": null,
   "metadata": {},
   "outputs": [],
   "source": [
    "req = requests.post('http://127.0.0.1:7070/transaction/deposit/', \n",
    "json={\n",
    "    'wallet': wallet1, \n",
    "    'amount': 100})\n",
    "    \n",
    "print(req.status_code)\n",
    "print(req.json())"
   ]
  },
  {
   "cell_type": "markdown",
   "metadata": {},
   "source": [
    "### Добавляем транзакции"
   ]
  },
  {
   "cell_type": "code",
   "execution_count": null,
   "metadata": {},
   "outputs": [],
   "source": [
    "req = requests.post('http://127.0.0.1:7070/transaction/new_transaction/', \n",
    "json={\n",
    "    'sender': wallet1, \n",
    "    'recipient': wallet2, \n",
    "    'amount': 100})\n",
    "    \n",
    "print(req.status_code)\n",
    "print(req.json())\n",
    "\n",
    "# NOT VALID\n",
    "req = requests.post('http://127.0.0.1:7070/transaction/new_transaction/', \n",
    "json={\n",
    "    'sender': wallet1, \n",
    "    'recipient': wallet2, \n",
    "    'amount': 100})\n",
    "    \n",
    "print(req.status_code)\n",
    "print(req.json())\n",
    "\n",
    "# NOT VALID\n",
    "req = requests.post('http://127.0.0.1:7070/transaction/new_transaction/', \n",
    "json={\n",
    "    'sender': wallet1, \n",
    "    'recipient': wallet2, \n",
    "    'amount': 100})\n",
    "    \n",
    "print(req.status_code)\n",
    "print(req.json())\n",
    "\n",
    "# NOT VALID\n",
    "req = requests.post('http://127.0.0.1:7070/transaction/new_transaction/', \n",
    "json={\n",
    "    'sender': wallet1, \n",
    "    'recipient': wallet2, \n",
    "    'amount': 100})\n",
    "    \n",
    "print(req.status_code)\n",
    "print(req.json())"
   ]
  },
  {
   "cell_type": "code",
   "execution_count": null,
   "metadata": {},
   "outputs": [],
   "source": [
    "req = requests.post('http://127.0.0.1:7070/transaction/new_transaction/', \n",
    "json={\n",
    "    'sender': wallet2, \n",
    "    'recipient': wallet1, \n",
    "    'amount': 100})\n",
    "    \n",
    "print(req.status_code)\n",
    "print(req.json())"
   ]
  },
  {
   "cell_type": "code",
   "execution_count": null,
   "metadata": {},
   "outputs": [],
   "source": [
    "# Не валидный адрес\n",
    "req = requests.post('http://127.0.0.1:7070/transaction/new_transaction/', \n",
    "json={\n",
    "    'sender': wallet2, \n",
    "    'recipient': 'fdgkjh', \n",
    "    'amount': 100})\n",
    "    \n",
    "print(req.status_code)\n",
    "print(req.json())\n",
    "\n",
    "# Не валидный адрес\n",
    "req = requests.post('http://127.0.0.1:7070/transaction/new_transaction/', \n",
    "json={\n",
    "    'sender': 'fdgrgrd', \n",
    "    'recipient': wallet2, \n",
    "    'amount': 100})\n",
    "    \n",
    "print(req.status_code)\n",
    "print(req.json())\n",
    "\n",
    "# Не валидный адрес\n",
    "req = requests.post('http://127.0.0.1:7070/transaction/new_transaction/', \n",
    "json={\n",
    "    'sender': 'fdgrgrd', \n",
    "    'recipient': 'rgegdt', \n",
    "    'amount': 100})\n",
    "    \n",
    "print(req.status_code)\n",
    "print(req.json())"
   ]
  },
  {
   "cell_type": "markdown",
   "metadata": {},
   "source": [
    "### Выключаем одну из нод и проверяем работоспособность"
   ]
  },
  {
   "cell_type": "code",
   "execution_count": null,
   "metadata": {},
   "outputs": [],
   "source": [
    "req = requests.post('http://127.0.0.1:7070/transaction/new_transaction/', \n",
    "json={\n",
    "    'sender': wallet2, \n",
    "    'recipient': wallet1, \n",
    "    'amount': 50})\n",
    "    \n",
    "print(req.status_code)\n",
    "print(req.json())"
   ]
  },
  {
   "cell_type": "markdown",
   "metadata": {},
   "source": [
    "### Проверяем chain"
   ]
  },
  {
   "cell_type": "code",
   "execution_count": null,
   "metadata": {},
   "outputs": [],
   "source": [
    "req = requests.get('http://127.0.0.1:8000/blockchain/chain/')\n",
    "print(req.status_code)\n",
    "print(req.json())\n",
    "\n",
    "req = requests.get('http://127.0.0.1:8001/blockchain/chain/')\n",
    "print(req.status_code)\n",
    "print(req.json())"
   ]
  },
  {
   "cell_type": "code",
   "execution_count": null,
   "metadata": {},
   "outputs": [],
   "source": []
  }
 ],
 "metadata": {
  "kernelspec": {
   "display_name": "Python 3.10.3 64-bit ('3.10.3')",
   "language": "python",
   "name": "python3"
  },
  "language_info": {
   "codemirror_mode": {
    "name": "ipython",
    "version": 3
   },
   "file_extension": ".py",
   "mimetype": "text/x-python",
   "name": "python",
   "nbconvert_exporter": "python",
   "pygments_lexer": "ipython3",
   "version": "3.10.3"
  },
  "orig_nbformat": 4,
  "vscode": {
   "interpreter": {
    "hash": "3c26c9a9f719f5de1012e5e5e8bc8d4fe58c071e5a997018b1c31fde085b43ca"
   }
  }
 },
 "nbformat": 4,
 "nbformat_minor": 2
}
