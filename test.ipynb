{
 "cells": [
  {
   "cell_type": "code",
   "execution_count": 1,
   "metadata": {},
   "outputs": [],
   "source": [
    "import requests"
   ]
  },
  {
   "cell_type": "markdown",
   "metadata": {},
   "source": [
    "Запускаем 2 ноды на 8000 и 8001 порту"
   ]
  },
  {
   "cell_type": "markdown",
   "metadata": {},
   "source": [
    "## Create and register node 8000"
   ]
  },
  {
   "cell_type": "code",
   "execution_count": 2,
   "metadata": {},
   "outputs": [
    {
     "name": "stdout",
     "output_type": "stream",
     "text": [
      "200\n",
      "{'message': 'New nodes have been added.', 'total_nodes': ['192.168.100.19:8000']}\n",
      "200\n",
      "{'chain': [{'index': 1, 'previous_hash': 0, 'proof': 1, 'timestamp': '2022-10-09 03:29:23.918605', 'transactions': 'Genesis Block'}], 'message': 'Our chain is authoritative.'}\n"
     ]
    }
   ],
   "source": [
    "req = requests.post('http://127.0.0.1:8000/nodes/register', json={'nodes': ['http://192.168.100.19:8000']})\n",
    "print(req.status_code)\n",
    "print(req.json())\n",
    "\n",
    "req = requests.get('http://127.0.0.1:8000/nodes/resolve/')\n",
    "print(req.status_code)\n",
    "print(req.json())"
   ]
  },
  {
   "cell_type": "markdown",
   "metadata": {},
   "source": [
    "## Add transaction to 8000"
   ]
  },
  {
   "cell_type": "code",
   "execution_count": 3,
   "metadata": {},
   "outputs": [
    {
     "name": "stdout",
     "output_type": "stream",
     "text": [
      "200\n",
      "{'message': 'Transaction will be added to Block 2.'}\n"
     ]
    }
   ],
   "source": [
    "req = requests.post('http://127.0.0.1:8000/transactions/new/', json={'sender': '111', 'recipient': '222', 'amount': 1})\n",
    "print(req.status_code)\n",
    "print(req.json())"
   ]
  },
  {
   "cell_type": "markdown",
   "metadata": {},
   "source": [
    "## Mine block at 8000"
   ]
  },
  {
   "cell_type": "code",
   "execution_count": 4,
   "metadata": {},
   "outputs": [
    {
     "name": "stdout",
     "output_type": "stream",
     "text": [
      "200\n",
      "{'index': 2, 'message': 'New Block Mined', 'previous_hash': '3705e192b5b1dd493b2a33a16ea7fc6a5fa1e447d33142f2ba7022ca71e2e77b', 'proof': 245660, 'transactions': [{'amount': 1, 'recipient': '222', 'sender': '111'}]}\n"
     ]
    }
   ],
   "source": [
    "req = requests.get('http://127.0.0.1:8000/mine_block/')\n",
    "print(req.status_code)\n",
    "print(req.json())"
   ]
  },
  {
   "cell_type": "markdown",
   "metadata": {},
   "source": [
    "## Chackout chain 8000"
   ]
  },
  {
   "cell_type": "code",
   "execution_count": 5,
   "metadata": {},
   "outputs": [
    {
     "name": "stdout",
     "output_type": "stream",
     "text": [
      "200\n",
      "{'chain': [{'index': 1, 'previous_hash': 0, 'proof': 1, 'timestamp': '2022-10-09 03:29:23.918605', 'transactions': 'Genesis Block'}, {'index': 2, 'previous_hash': '3705e192b5b1dd493b2a33a16ea7fc6a5fa1e447d33142f2ba7022ca71e2e77b', 'proof': 245660, 'timestamp': '2022-10-09 03:29:30.010583', 'transactions': [{'amount': 1, 'recipient': '222', 'sender': '111'}]}], 'length': 2}\n"
     ]
    }
   ],
   "source": [
    "req = requests.get('http://127.0.0.1:8000/chain/')\n",
    "print(req.status_code)\n",
    "print(req.json())"
   ]
  },
  {
   "cell_type": "markdown",
   "metadata": {},
   "source": [
    "## Create and register node 8001"
   ]
  },
  {
   "cell_type": "code",
   "execution_count": 6,
   "metadata": {},
   "outputs": [
    {
     "name": "stdout",
     "output_type": "stream",
     "text": [
      "200\n",
      "{'message': 'New nodes have been added.', 'total_nodes': ['192.168.100.19:8000', '192.168.100.19:8001']}\n",
      "200\n",
      "{'message': 'Our chain was replaced.', 'new_chain': [{'index': 1, 'previous_hash': 0, 'proof': 1, 'timestamp': '2022-10-09 03:29:23.918605', 'transactions': 'Genesis Block'}, {'index': 2, 'previous_hash': '3705e192b5b1dd493b2a33a16ea7fc6a5fa1e447d33142f2ba7022ca71e2e77b', 'proof': 245660, 'timestamp': '2022-10-09 03:29:30.010583', 'transactions': [{'amount': 1, 'recipient': '222', 'sender': '111'}]}]}\n",
      "200\n",
      "{'message': 'New nodes have been added.', 'total_nodes': ['192.168.100.19:8000', '192.168.100.19:8001']}\n"
     ]
    }
   ],
   "source": [
    "req = requests.post('http://127.0.0.1:8001/nodes/register', json={'nodes': ['http://192.168.100.19:8000', 'http://192.168.100.19:8001']})\n",
    "print(req.status_code)\n",
    "print(req.json())\n",
    "\n",
    "req = requests.get('http://127.0.0.1:8001/nodes/resolve/')\n",
    "print(req.status_code)\n",
    "print(req.json())\n",
    "\n",
    "# Уведомляем рабочую ноду о новой\n",
    "req = requests.post('http://127.0.0.1:8000/nodes/register', json={'nodes': ['http://192.168.100.19:8000', 'http://192.168.100.19:8001']})\n",
    "print(req.status_code)\n",
    "print(req.json())"
   ]
  },
  {
   "cell_type": "markdown",
   "metadata": {},
   "source": [
    "## Add transactions to 8001"
   ]
  },
  {
   "cell_type": "code",
   "execution_count": 7,
   "metadata": {},
   "outputs": [
    {
     "name": "stdout",
     "output_type": "stream",
     "text": [
      "200\n",
      "{'message': 'Transaction will be added to Block 3.'}\n"
     ]
    }
   ],
   "source": [
    "req = requests.post('http://127.0.0.1:8001/transactions/new/', json={'sender': '333', 'recipient': '444', 'amount': 3})\n",
    "print(req.status_code)\n",
    "print(req.json())"
   ]
  },
  {
   "cell_type": "markdown",
   "metadata": {},
   "source": [
    "## Mine block at 8001"
   ]
  },
  {
   "cell_type": "code",
   "execution_count": 8,
   "metadata": {},
   "outputs": [
    {
     "name": "stdout",
     "output_type": "stream",
     "text": [
      "200\n",
      "{'index': 3, 'message': 'New Block Mined', 'previous_hash': 'd29db622d26f2ee2c1070e917ab381761154f12ca5006e5b2d8e6cd08c86fd82', 'proof': 3350, 'transactions': [{'amount': 3, 'recipient': '444', 'sender': '333'}]}\n"
     ]
    }
   ],
   "source": [
    "req = requests.get('http://127.0.0.1:8001/mine_block/')\n",
    "print(req.status_code)\n",
    "print(req.json())"
   ]
  },
  {
   "cell_type": "markdown",
   "metadata": {},
   "source": [
    "## Checkout 8000 chain"
   ]
  },
  {
   "cell_type": "code",
   "execution_count": 9,
   "metadata": {},
   "outputs": [
    {
     "name": "stdout",
     "output_type": "stream",
     "text": [
      "200\n",
      "{'chain': [{'index': 1, 'previous_hash': 0, 'proof': 1, 'timestamp': '2022-10-09 03:29:23.918605', 'transactions': 'Genesis Block'}, {'index': 2, 'previous_hash': '3705e192b5b1dd493b2a33a16ea7fc6a5fa1e447d33142f2ba7022ca71e2e77b', 'proof': 245660, 'timestamp': '2022-10-09 03:29:30.010583', 'transactions': [{'amount': 1, 'recipient': '222', 'sender': '111'}]}, {'index': 3, 'previous_hash': 'd29db622d26f2ee2c1070e917ab381761154f12ca5006e5b2d8e6cd08c86fd82', 'proof': 3350, 'timestamp': '2022-10-09 03:29:35.049983', 'transactions': [{'amount': 3, 'recipient': '444', 'sender': '333'}]}], 'length': 3}\n"
     ]
    }
   ],
   "source": [
    "req = requests.get('http://127.0.0.1:8001/chain/')\n",
    "print(req.status_code)\n",
    "print(req.json())"
   ]
  },
  {
   "cell_type": "markdown",
   "metadata": {},
   "source": [
    "## Checkout 8001 chain"
   ]
  },
  {
   "cell_type": "code",
   "execution_count": 10,
   "metadata": {},
   "outputs": [
    {
     "name": "stdout",
     "output_type": "stream",
     "text": [
      "200\n",
      "{'chain': [{'index': 1, 'previous_hash': 0, 'proof': 1, 'timestamp': '2022-10-09 03:29:23.918605', 'transactions': 'Genesis Block'}, {'index': 2, 'previous_hash': '3705e192b5b1dd493b2a33a16ea7fc6a5fa1e447d33142f2ba7022ca71e2e77b', 'proof': 245660, 'timestamp': '2022-10-09 03:29:30.010583', 'transactions': [{'amount': 1, 'recipient': '222', 'sender': '111'}]}, {'index': 3, 'previous_hash': 'd29db622d26f2ee2c1070e917ab381761154f12ca5006e5b2d8e6cd08c86fd82', 'proof': 3350, 'timestamp': '2022-10-09 03:29:35.049983', 'transactions': [{'amount': 3, 'recipient': '444', 'sender': '333'}]}], 'length': 3}\n"
     ]
    }
   ],
   "source": [
    "req = requests.get('http://127.0.0.1:8000/chain/')\n",
    "print(req.status_code)\n",
    "print(req.json())"
   ]
  },
  {
   "cell_type": "markdown",
   "metadata": {},
   "source": [
    "## Add transaction to 8000"
   ]
  },
  {
   "cell_type": "code",
   "execution_count": 11,
   "metadata": {},
   "outputs": [
    {
     "name": "stdout",
     "output_type": "stream",
     "text": [
      "200\n",
      "{'message': 'Transaction will be added to Block 4.'}\n"
     ]
    }
   ],
   "source": [
    "req = requests.post('http://127.0.0.1:8000/transactions/new/', json={'sender': '555', 'recipient': '666', 'amount': 5})\n",
    "print(req.status_code)\n",
    "print(req.json())"
   ]
  },
  {
   "cell_type": "markdown",
   "metadata": {},
   "source": [
    "## Mine block at 8000"
   ]
  },
  {
   "cell_type": "code",
   "execution_count": 12,
   "metadata": {},
   "outputs": [
    {
     "name": "stdout",
     "output_type": "stream",
     "text": [
      "200\n",
      "{'index': 4, 'message': 'New Block Mined', 'previous_hash': 'a51de15c411d78fe54ae5de2ac85f8fced5ced4861a5f3857ae9a1989c1438cd', 'proof': 457490, 'transactions': [{'amount': 5, 'recipient': '666', 'sender': '555'}]}\n"
     ]
    }
   ],
   "source": [
    "req = requests.get('http://127.0.0.1:8000/mine_block/')\n",
    "print(req.status_code)\n",
    "print(req.json())"
   ]
  },
  {
   "cell_type": "markdown",
   "metadata": {},
   "source": [
    "## Checkout 8000 chain"
   ]
  },
  {
   "cell_type": "code",
   "execution_count": 13,
   "metadata": {},
   "outputs": [
    {
     "name": "stdout",
     "output_type": "stream",
     "text": [
      "200\n",
      "{'chain': [{'index': 1, 'previous_hash': 0, 'proof': 1, 'timestamp': '2022-10-09 03:29:23.918605', 'transactions': 'Genesis Block'}, {'index': 2, 'previous_hash': '3705e192b5b1dd493b2a33a16ea7fc6a5fa1e447d33142f2ba7022ca71e2e77b', 'proof': 245660, 'timestamp': '2022-10-09 03:29:30.010583', 'transactions': [{'amount': 1, 'recipient': '222', 'sender': '111'}]}, {'index': 3, 'previous_hash': 'd29db622d26f2ee2c1070e917ab381761154f12ca5006e5b2d8e6cd08c86fd82', 'proof': 3350, 'timestamp': '2022-10-09 03:29:35.049983', 'transactions': [{'amount': 3, 'recipient': '444', 'sender': '333'}]}, {'index': 4, 'previous_hash': 'a51de15c411d78fe54ae5de2ac85f8fced5ced4861a5f3857ae9a1989c1438cd', 'proof': 457490, 'timestamp': '2022-10-09 03:29:41.356404', 'transactions': [{'amount': 5, 'recipient': '666', 'sender': '555'}]}], 'length': 4}\n"
     ]
    }
   ],
   "source": [
    "req = requests.get('http://127.0.0.1:8000/chain/')\n",
    "print(req.status_code)\n",
    "print(req.json())"
   ]
  },
  {
   "cell_type": "markdown",
   "metadata": {},
   "source": [
    "## Checkout 8001 chain"
   ]
  },
  {
   "cell_type": "code",
   "execution_count": 14,
   "metadata": {},
   "outputs": [
    {
     "name": "stdout",
     "output_type": "stream",
     "text": [
      "200\n",
      "{'chain': [{'index': 1, 'previous_hash': 0, 'proof': 1, 'timestamp': '2022-10-09 03:29:23.918605', 'transactions': 'Genesis Block'}, {'index': 2, 'previous_hash': '3705e192b5b1dd493b2a33a16ea7fc6a5fa1e447d33142f2ba7022ca71e2e77b', 'proof': 245660, 'timestamp': '2022-10-09 03:29:30.010583', 'transactions': [{'amount': 1, 'recipient': '222', 'sender': '111'}]}, {'index': 3, 'previous_hash': 'd29db622d26f2ee2c1070e917ab381761154f12ca5006e5b2d8e6cd08c86fd82', 'proof': 3350, 'timestamp': '2022-10-09 03:29:35.049983', 'transactions': [{'amount': 3, 'recipient': '444', 'sender': '333'}]}, {'index': 4, 'previous_hash': 'a51de15c411d78fe54ae5de2ac85f8fced5ced4861a5f3857ae9a1989c1438cd', 'proof': 457490, 'timestamp': '2022-10-09 03:29:41.356404', 'transactions': [{'amount': 5, 'recipient': '666', 'sender': '555'}]}], 'length': 4}\n"
     ]
    }
   ],
   "source": [
    "req = requests.get('http://127.0.0.1:8001/chain/')\n",
    "print(req.status_code)\n",
    "print(req.json())"
   ]
  },
  {
   "cell_type": "markdown",
   "metadata": {},
   "source": [
    "## Validate"
   ]
  },
  {
   "cell_type": "code",
   "execution_count": 15,
   "metadata": {},
   "outputs": [
    {
     "name": "stdout",
     "output_type": "stream",
     "text": [
      "200\n",
      "The blockchain is valid.\n",
      "200\n",
      "The blockchain is valid.\n"
     ]
    }
   ],
   "source": [
    "req = requests.get('http://127.0.0.1:8000/validate/')\n",
    "print(req.status_code)\n",
    "print(req.json())\n",
    "\n",
    "req = requests.get('http://127.0.0.1:8001/validate/')\n",
    "print(req.status_code)\n",
    "print(req.json())"
   ]
  },
  {
   "cell_type": "markdown",
   "metadata": {},
   "source": [
    "## Try to create block without transactions"
   ]
  },
  {
   "cell_type": "code",
   "execution_count": 16,
   "metadata": {},
   "outputs": [
    {
     "name": "stdout",
     "output_type": "stream",
     "text": [
      "400\n",
      "No transactions for mining.\n"
     ]
    }
   ],
   "source": [
    "req = requests.get('http://127.0.0.1:8000/mine_block/')\n",
    "print(req.status_code)\n",
    "print(req.json())"
   ]
  },
  {
   "cell_type": "code",
   "execution_count": 17,
   "metadata": {},
   "outputs": [
    {
     "name": "stdout",
     "output_type": "stream",
     "text": [
      "400\n",
      "No transactions for mining.\n"
     ]
    }
   ],
   "source": [
    "req = requests.get('http://127.0.0.1:8001/mine_block/')\n",
    "print(req.status_code)\n",
    "print(req.json())"
   ]
  },
  {
   "cell_type": "markdown",
   "metadata": {},
   "source": [
    "## Test transaction and mining node sync"
   ]
  },
  {
   "cell_type": "code",
   "execution_count": 18,
   "metadata": {},
   "outputs": [
    {
     "name": "stdout",
     "output_type": "stream",
     "text": [
      "200\n",
      "{'message': 'Transaction will be added to Block 5.'}\n",
      "200\n",
      "{'message': 'Transaction will be added to Block 5.'}\n",
      "200\n",
      "{'message': 'Transaction will be added to Block 5.'}\n",
      "200\n",
      "{'message': 'Transaction will be added to Block 5.'}\n",
      "200\n",
      "{'index': 5, 'message': 'New Block Mined', 'previous_hash': '352ec514b260c8c0e7d9efcd6b43f1f88eff3ba52237fa436218317babec8b89', 'proof': 152316, 'transactions': [{'amount': 5, 'recipient': '221', 'sender': '123'}, {'amount': 8, 'recipient': '554', 'sender': '654'}, {'amount': 4, 'recipient': '536', 'sender': '879'}, {'amount': 9, 'recipient': '963', 'sender': '452'}]}\n"
     ]
    }
   ],
   "source": [
    "# 8000 is mining node\n",
    "# 8001 is transaction node\n",
    "\n",
    "req = requests.post('http://127.0.0.1:8001/transactions/new/', json={'sender': '123', 'recipient': '221', 'amount': 5})\n",
    "print(req.status_code)\n",
    "print(req.json())\n",
    "\n",
    "req = requests.post('http://127.0.0.1:8001/transactions/new/', json={'sender': '654', 'recipient': '554', 'amount': 8})\n",
    "print(req.status_code)\n",
    "print(req.json())\n",
    "\n",
    "req = requests.post('http://127.0.0.1:8001/transactions/new/', json={'sender': '879', 'recipient': '536', 'amount': 4})\n",
    "print(req.status_code)\n",
    "print(req.json())\n",
    "\n",
    "req = requests.post('http://127.0.0.1:8001/transactions/new/', json={'sender': '452', 'recipient': '963', 'amount': 9})\n",
    "print(req.status_code)\n",
    "print(req.json())\n",
    "\n",
    "# Mine\n",
    "req = requests.get('http://127.0.0.1:8000/mine_block/')\n",
    "print(req.status_code)\n",
    "print(req.json())"
   ]
  },
  {
   "cell_type": "code",
   "execution_count": 19,
   "metadata": {},
   "outputs": [
    {
     "name": "stdout",
     "output_type": "stream",
     "text": [
      "200\n",
      "{'chain': [{'index': 1, 'previous_hash': 0, 'proof': 1, 'timestamp': '2022-10-09 03:29:23.918605', 'transactions': 'Genesis Block'}, {'index': 2, 'previous_hash': '3705e192b5b1dd493b2a33a16ea7fc6a5fa1e447d33142f2ba7022ca71e2e77b', 'proof': 245660, 'timestamp': '2022-10-09 03:29:30.010583', 'transactions': [{'amount': 1, 'recipient': '222', 'sender': '111'}]}, {'index': 3, 'previous_hash': 'd29db622d26f2ee2c1070e917ab381761154f12ca5006e5b2d8e6cd08c86fd82', 'proof': 3350, 'timestamp': '2022-10-09 03:29:35.049983', 'transactions': [{'amount': 3, 'recipient': '444', 'sender': '333'}]}, {'index': 4, 'previous_hash': 'a51de15c411d78fe54ae5de2ac85f8fced5ced4861a5f3857ae9a1989c1438cd', 'proof': 457490, 'timestamp': '2022-10-09 03:29:41.356404', 'transactions': [{'amount': 5, 'recipient': '666', 'sender': '555'}]}, {'index': 5, 'previous_hash': '352ec514b260c8c0e7d9efcd6b43f1f88eff3ba52237fa436218317babec8b89', 'proof': 152316, 'timestamp': '2022-10-09 03:29:47.124523', 'transactions': [{'amount': 5, 'recipient': '221', 'sender': '123'}, {'amount': 8, 'recipient': '554', 'sender': '654'}, {'amount': 4, 'recipient': '536', 'sender': '879'}, {'amount': 9, 'recipient': '963', 'sender': '452'}]}], 'length': 5}\n"
     ]
    }
   ],
   "source": [
    "req = requests.get('http://127.0.0.1:8000/chain/')\n",
    "print(req.status_code)\n",
    "print(req.json())"
   ]
  },
  {
   "cell_type": "code",
   "execution_count": 20,
   "metadata": {},
   "outputs": [
    {
     "name": "stdout",
     "output_type": "stream",
     "text": [
      "200\n",
      "{'chain': [{'index': 1, 'previous_hash': 0, 'proof': 1, 'timestamp': '2022-10-09 03:29:23.918605', 'transactions': 'Genesis Block'}, {'index': 2, 'previous_hash': '3705e192b5b1dd493b2a33a16ea7fc6a5fa1e447d33142f2ba7022ca71e2e77b', 'proof': 245660, 'timestamp': '2022-10-09 03:29:30.010583', 'transactions': [{'amount': 1, 'recipient': '222', 'sender': '111'}]}, {'index': 3, 'previous_hash': 'd29db622d26f2ee2c1070e917ab381761154f12ca5006e5b2d8e6cd08c86fd82', 'proof': 3350, 'timestamp': '2022-10-09 03:29:35.049983', 'transactions': [{'amount': 3, 'recipient': '444', 'sender': '333'}]}, {'index': 4, 'previous_hash': 'a51de15c411d78fe54ae5de2ac85f8fced5ced4861a5f3857ae9a1989c1438cd', 'proof': 457490, 'timestamp': '2022-10-09 03:29:41.356404', 'transactions': [{'amount': 5, 'recipient': '666', 'sender': '555'}]}, {'index': 5, 'previous_hash': '352ec514b260c8c0e7d9efcd6b43f1f88eff3ba52237fa436218317babec8b89', 'proof': 152316, 'timestamp': '2022-10-09 03:29:47.124523', 'transactions': [{'amount': 5, 'recipient': '221', 'sender': '123'}, {'amount': 8, 'recipient': '554', 'sender': '654'}, {'amount': 4, 'recipient': '536', 'sender': '879'}, {'amount': 9, 'recipient': '963', 'sender': '452'}]}], 'length': 5}\n"
     ]
    }
   ],
   "source": [
    "req = requests.get('http://127.0.0.1:8001/chain/')\n",
    "print(req.status_code)\n",
    "print(req.json())"
   ]
  },
  {
   "cell_type": "markdown",
   "metadata": {},
   "source": [
    "## Create unique id"
   ]
  },
  {
   "cell_type": "code",
   "execution_count": 21,
   "metadata": {},
   "outputs": [
    {
     "name": "stdout",
     "output_type": "stream",
     "text": [
      "200\n",
      "jadlene413d7f697bbceaf1656a1aad85ae75c68053219fb085433563a64c0fe927844\n"
     ]
    }
   ],
   "source": [
    "req = requests.post('http://127.0.0.1:8000/new_wallet/', json={'number': '89057731311'})\n",
    "print(req.status_code)\n",
    "print(req.json())"
   ]
  },
  {
   "cell_type": "code",
   "execution_count": null,
   "metadata": {},
   "outputs": [],
   "source": []
  }
 ],
 "metadata": {
  "kernelspec": {
   "display_name": "Python 3.10.3 64-bit ('3.10.3')",
   "language": "python",
   "name": "python3"
  },
  "language_info": {
   "codemirror_mode": {
    "name": "ipython",
    "version": 3
   },
   "file_extension": ".py",
   "mimetype": "text/x-python",
   "name": "python",
   "nbconvert_exporter": "python",
   "pygments_lexer": "ipython3",
   "version": "3.10.3"
  },
  "orig_nbformat": 4,
  "vscode": {
   "interpreter": {
    "hash": "3c26c9a9f719f5de1012e5e5e8bc8d4fe58c071e5a997018b1c31fde085b43ca"
   }
  }
 },
 "nbformat": 4,
 "nbformat_minor": 2
}
